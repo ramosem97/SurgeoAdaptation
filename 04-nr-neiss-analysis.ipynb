{
 "cells": [
  {
   "cell_type": "markdown",
   "id": "dc724413-1084-425b-b968-710354786558",
   "metadata": {},
   "source": [
    "# NEISS Public Data Reports - Initial Analysis"
   ]
  },
  {
   "cell_type": "markdown",
   "id": "5c653d11-feb9-4c2b-b6ae-0ec643d993c5",
   "metadata": {},
   "source": [
    "## Configuration"
   ]
  },
  {
   "cell_type": "code",
   "execution_count": 1,
   "id": "5cdf6158-e986-4420-a8a0-ef672d18f9b2",
   "metadata": {},
   "outputs": [],
   "source": [
    "import re\n",
    "import string\n",
    "from zipfile import ZipFile\n",
    "\n",
    "import matplotlib.pyplot as plt\n",
    "import numpy as np\n",
    "import pandas as pd\n",
    "import seaborn as sns"
   ]
  },
  {
   "cell_type": "markdown",
   "id": "43f87c78-85be-4759-adb7-09970555716c",
   "metadata": {},
   "source": [
    "## Data"
   ]
  },
  {
   "cell_type": "code",
   "execution_count": 2,
   "id": "9d0fb5f2-1e53-4acc-a4d8-920f7facbf90",
   "metadata": {
    "tags": []
   },
   "outputs": [
    {
     "name": "stdout",
     "output_type": "stream",
     "text": [
      "neiss2011.tsv\n",
      "neiss2012.tsv\n",
      "neiss2013.tsv\n",
      "neiss2014.tsv\n",
      "neiss2015.tsv\n",
      "neiss2016.tsv\n",
      "neiss2017.tsv\n",
      "\t Error in file\n",
      "neiss2018.tsv\n",
      "neiss2019.tsv\n",
      "neiss2020.tsv\n"
     ]
    }
   ],
   "source": [
    "zf = ZipFile('../data/neiss-public/neiss_tsv.zip')\n",
    "filenames = [file.filename for file in zf.infolist() if \"MACOS\" not in file.filename]\n",
    "data={}\n",
    "for file in filenames:\n",
    "    print(file)\n",
    "    year = file[-8:-4]\n",
    "    try:\n",
    "        data[int(year)] = pd.read_csv(zf.open(file), delimiter='\\t', low_memory=False, encoding='utf-8')\n",
    "    except:\n",
    "        print('\\t Error in file')\n",
    "        data[int(year)] = pd.read_csv(zf.open(file), delimiter='\\t', low_memory=False, encoding='ISO-8859-1')"
   ]
  },
  {
   "cell_type": "markdown",
   "id": "67477621-fccf-4832-b75e-620297fbf1f7",
   "metadata": {},
   "source": [
    "## Analysis"
   ]
  },
  {
   "cell_type": "markdown",
   "id": "a9d23ed7-9877-42c9-a938-3b89efa404a4",
   "metadata": {},
   "source": [
    "### Basic Table Info"
   ]
  },
  {
   "cell_type": "code",
   "execution_count": 3,
   "id": "5e9163a0-e891-494d-b24d-4f74a8c17076",
   "metadata": {},
   "outputs": [],
   "source": [
    "def race_cols(cols):\n",
    "    \n",
    "    race_cols = [x for x in cols if 'race' in x.lower()]\n",
    "    \n",
    "    if len(race_cols) == 0:\n",
    "        return 'None'\n",
    "    \n",
    "    race_str = race_cols[0]\n",
    "    for c in race_cols[1:]:\n",
    "        race_str += ', ' + c\n",
    "        \n",
    "    return race_str\n",
    "\n",
    "\n",
    "def eth_cols(cols):\n",
    "    \n",
    "    eth_cols = [x for x in cols if (('ethnicity' in x.lower()) | ('hispanic' in x.lower()) | ('latino' in x.lower()))]\n",
    "    \n",
    "    if len(eth_cols) == 0:\n",
    "        return 'None'\n",
    "    \n",
    "    eth_str = eth_cols[0]\n",
    "    for c in eth_cols[1:]:\n",
    "        eth_str += ', ' + c\n",
    "        \n",
    "    return eth_str"
   ]
  },
  {
   "cell_type": "code",
   "execution_count": 4,
   "id": "56956133-9f0b-4dce-aabd-6f091cf3231c",
   "metadata": {},
   "outputs": [
    {
     "name": "stdout",
     "output_type": "stream",
     "text": [
      "Year: 2011, Entry Count: 396502, Column Count: 25, Race Cols: Race, Other_Race, Ehtnicity Cols: Hispanic\n",
      "Year: 2012, Entry Count: 394383, Column Count: 25, Race Cols: Race, Other_Race, Ehtnicity Cols: Hispanic\n",
      "Year: 2013, Entry Count: 376927, Column Count: 25, Race Cols: Race, Other_Race, Ehtnicity Cols: Hispanic\n",
      "Year: 2014, Entry Count: 367492, Column Count: 25, Race Cols: Race, Other_Race, Ehtnicity Cols: Hispanic\n",
      "Year: 2015, Entry Count: 359129, Column Count: 25, Race Cols: Race, Other_Race, Ehtnicity Cols: Hispanic\n",
      "Year: 2016, Entry Count: 375196, Column Count: 25, Race Cols: Race, Other_Race, Ehtnicity Cols: Hispanic\n",
      "Year: 2017, Entry Count: 386907, Column Count: 25, Race Cols: Race, Other_Race, Ehtnicity Cols: Hispanic\n",
      "Year: 2018, Entry Count: 361668, Column Count: 25, Race Cols: Race, Other_Race, Ehtnicity Cols: Hispanic\n",
      "Year: 2019, Entry Count: 358716, Column Count: 25, Race Cols: Race, Other_Race, Ehtnicity Cols: Hispanic\n",
      "Year: 2020, Entry Count: 309370, Column Count: 25, Race Cols: Race, Other_Race, Ehtnicity Cols: Hispanic\n"
     ]
    }
   ],
   "source": [
    "for year in data.keys():\n",
    "    print('Year: {}, Entry Count: {}, Column Count: {}, Race Cols: {}, Ehtnicity Cols: {}'\\\n",
    "          .format(year, len(data[year]), len(data[year].columns.tolist()), race_cols(cols=data[year].columns.tolist()), eth_cols(cols=data[year].columns.tolist())))"
   ]
  },
  {
   "cell_type": "markdown",
   "id": "e81c74eb-d8ce-4826-8932-094096732cfb",
   "metadata": {},
   "source": [
    "### Combine All Data"
   ]
  },
  {
   "cell_type": "code",
   "execution_count": 5,
   "id": "2cd1aac5-bf6e-4a77-9a5b-fd69ce63e183",
   "metadata": {},
   "outputs": [
    {
     "data": {
      "text/html": [
       "<div>\n",
       "<style scoped>\n",
       "    .dataframe tbody tr th:only-of-type {\n",
       "        vertical-align: middle;\n",
       "    }\n",
       "\n",
       "    .dataframe tbody tr th {\n",
       "        vertical-align: top;\n",
       "    }\n",
       "\n",
       "    .dataframe thead th {\n",
       "        text-align: right;\n",
       "    }\n",
       "</style>\n",
       "<table border=\"1\" class=\"dataframe\">\n",
       "  <thead>\n",
       "    <tr style=\"text-align: right;\">\n",
       "      <th></th>\n",
       "      <th>CPSC_Case_Number</th>\n",
       "      <th>Treatment_Date</th>\n",
       "      <th>Age</th>\n",
       "      <th>Sex</th>\n",
       "      <th>Race</th>\n",
       "      <th>Other_Race</th>\n",
       "      <th>Hispanic</th>\n",
       "      <th>Body_Part</th>\n",
       "      <th>Diagnosis</th>\n",
       "      <th>Other_Diagnosis</th>\n",
       "      <th>...</th>\n",
       "      <th>Product_1</th>\n",
       "      <th>Product_2</th>\n",
       "      <th>Product_3</th>\n",
       "      <th>Alcohol</th>\n",
       "      <th>Drug</th>\n",
       "      <th>Narrative</th>\n",
       "      <th>Stratum</th>\n",
       "      <th>PSU</th>\n",
       "      <th>Weight</th>\n",
       "      <th>Narrative_1</th>\n",
       "    </tr>\n",
       "  </thead>\n",
       "  <tbody>\n",
       "    <tr>\n",
       "      <th>0</th>\n",
       "      <td>110100393</td>\n",
       "      <td>01/01/2011</td>\n",
       "      <td>84</td>\n",
       "      <td>2.0</td>\n",
       "      <td>1.0</td>\n",
       "      <td>NaN</td>\n",
       "      <td>NaN</td>\n",
       "      <td>76.0</td>\n",
       "      <td>59.0</td>\n",
       "      <td>NaN</td>\n",
       "      <td>...</td>\n",
       "      <td>4076.0</td>\n",
       "      <td>0.0</td>\n",
       "      <td>0.0</td>\n",
       "      <td>NaN</td>\n",
       "      <td>NaN</td>\n",
       "      <td>84YOF, FELL FROM BED AT HOME, LACERATION TO FO...</td>\n",
       "      <td>S</td>\n",
       "      <td>71.0</td>\n",
       "      <td>68.3455</td>\n",
       "      <td>NaN</td>\n",
       "    </tr>\n",
       "    <tr>\n",
       "      <th>1</th>\n",
       "      <td>110100394</td>\n",
       "      <td>01/01/2011</td>\n",
       "      <td>26</td>\n",
       "      <td>2.0</td>\n",
       "      <td>2.0</td>\n",
       "      <td>NaN</td>\n",
       "      <td>NaN</td>\n",
       "      <td>92.0</td>\n",
       "      <td>64.0</td>\n",
       "      <td>NaN</td>\n",
       "      <td>...</td>\n",
       "      <td>3299.0</td>\n",
       "      <td>0.0</td>\n",
       "      <td>0.0</td>\n",
       "      <td>NaN</td>\n",
       "      <td>NaN</td>\n",
       "      <td>26YOF, FELL DOWN AT HOME WHILE RUNNING, SPRAIN...</td>\n",
       "      <td>S</td>\n",
       "      <td>71.0</td>\n",
       "      <td>68.3455</td>\n",
       "      <td>NaN</td>\n",
       "    </tr>\n",
       "    <tr>\n",
       "      <th>2</th>\n",
       "      <td>110100396</td>\n",
       "      <td>01/01/2011</td>\n",
       "      <td>97</td>\n",
       "      <td>2.0</td>\n",
       "      <td>1.0</td>\n",
       "      <td>NaN</td>\n",
       "      <td>NaN</td>\n",
       "      <td>75.0</td>\n",
       "      <td>53.0</td>\n",
       "      <td>NaN</td>\n",
       "      <td>...</td>\n",
       "      <td>1807.0</td>\n",
       "      <td>0.0</td>\n",
       "      <td>0.0</td>\n",
       "      <td>NaN</td>\n",
       "      <td>NaN</td>\n",
       "      <td>97YOF, FELL AND HIT HEAD ON FLOOR, CONTUSION T...</td>\n",
       "      <td>S</td>\n",
       "      <td>71.0</td>\n",
       "      <td>68.3455</td>\n",
       "      <td>NaN</td>\n",
       "    </tr>\n",
       "    <tr>\n",
       "      <th>3</th>\n",
       "      <td>110100397</td>\n",
       "      <td>01/02/2011</td>\n",
       "      <td>38</td>\n",
       "      <td>2.0</td>\n",
       "      <td>1.0</td>\n",
       "      <td>NaN</td>\n",
       "      <td>NaN</td>\n",
       "      <td>79.0</td>\n",
       "      <td>64.0</td>\n",
       "      <td>NaN</td>\n",
       "      <td>...</td>\n",
       "      <td>1658.0</td>\n",
       "      <td>127.0</td>\n",
       "      <td>0.0</td>\n",
       "      <td>NaN</td>\n",
       "      <td>NaN</td>\n",
       "      <td>38YOF, GETTING CLOTHES OUT OF DRYER AT HOME, L...</td>\n",
       "      <td>S</td>\n",
       "      <td>71.0</td>\n",
       "      <td>68.3455</td>\n",
       "      <td>NaN</td>\n",
       "    </tr>\n",
       "    <tr>\n",
       "      <th>4</th>\n",
       "      <td>110100398</td>\n",
       "      <td>01/02/2011</td>\n",
       "      <td>48</td>\n",
       "      <td>2.0</td>\n",
       "      <td>1.0</td>\n",
       "      <td>NaN</td>\n",
       "      <td>NaN</td>\n",
       "      <td>79.0</td>\n",
       "      <td>71.0</td>\n",
       "      <td>PAIN</td>\n",
       "      <td>...</td>\n",
       "      <td>550.0</td>\n",
       "      <td>0.0</td>\n",
       "      <td>0.0</td>\n",
       "      <td>NaN</td>\n",
       "      <td>NaN</td>\n",
       "      <td>48YOF, TRIPPED OVER PHONE CORD AT HOME, LOWER ...</td>\n",
       "      <td>S</td>\n",
       "      <td>71.0</td>\n",
       "      <td>68.3455</td>\n",
       "      <td>NaN</td>\n",
       "    </tr>\n",
       "  </tbody>\n",
       "</table>\n",
       "<p>5 rows × 26 columns</p>\n",
       "</div>"
      ],
      "text/plain": [
       "  CPSC_Case_Number Treatment_Date  Age  Sex  Race Other_Race  Hispanic  \\\n",
       "0        110100393     01/01/2011   84  2.0   1.0        NaN       NaN   \n",
       "1        110100394     01/01/2011   26  2.0   2.0        NaN       NaN   \n",
       "2        110100396     01/01/2011   97  2.0   1.0        NaN       NaN   \n",
       "3        110100397     01/02/2011   38  2.0   1.0        NaN       NaN   \n",
       "4        110100398     01/02/2011   48  2.0   1.0        NaN       NaN   \n",
       "\n",
       "   Body_Part  Diagnosis Other_Diagnosis  ...  Product_1  Product_2 Product_3  \\\n",
       "0       76.0       59.0             NaN  ...     4076.0        0.0       0.0   \n",
       "1       92.0       64.0             NaN  ...     3299.0        0.0       0.0   \n",
       "2       75.0       53.0             NaN  ...     1807.0        0.0       0.0   \n",
       "3       79.0       64.0             NaN  ...     1658.0      127.0       0.0   \n",
       "4       79.0       71.0            PAIN  ...      550.0        0.0       0.0   \n",
       "\n",
       "   Alcohol  Drug                                          Narrative  Stratum  \\\n",
       "0      NaN   NaN  84YOF, FELL FROM BED AT HOME, LACERATION TO FO...        S   \n",
       "1      NaN   NaN  26YOF, FELL DOWN AT HOME WHILE RUNNING, SPRAIN...        S   \n",
       "2      NaN   NaN  97YOF, FELL AND HIT HEAD ON FLOOR, CONTUSION T...        S   \n",
       "3      NaN   NaN  38YOF, GETTING CLOTHES OUT OF DRYER AT HOME, L...        S   \n",
       "4      NaN   NaN  48YOF, TRIPPED OVER PHONE CORD AT HOME, LOWER ...        S   \n",
       "\n",
       "    PSU   Weight  Narrative_1  \n",
       "0  71.0  68.3455          NaN  \n",
       "1  71.0  68.3455          NaN  \n",
       "2  71.0  68.3455          NaN  \n",
       "3  71.0  68.3455          NaN  \n",
       "4  71.0  68.3455          NaN  \n",
       "\n",
       "[5 rows x 26 columns]"
      ]
     },
     "execution_count": 5,
     "metadata": {},
     "output_type": "execute_result"
    }
   ],
   "source": [
    "df = pd.concat(list(data.values()))\n",
    "del(data)\n",
    "df.head()"
   ]
  },
  {
   "cell_type": "markdown",
   "id": "0acb42ff-a989-47a0-9d83-4532bd80b726",
   "metadata": {},
   "source": [
    "### Check Race and Other Race Count"
   ]
  },
  {
   "cell_type": "code",
   "execution_count": 6,
   "id": "da72106d-1c6f-47f1-8912-dae2602f48e2",
   "metadata": {},
   "outputs": [
    {
     "data": {
      "text/plain": [
       "1.0    1653724\n",
       "0.0    1225637\n",
       "2.0     540051\n",
       "3.0     207477\n",
       "4.0      45555\n",
       "5.0      10411\n",
       "6.0       3431\n",
       "Name: Race, dtype: int64"
      ]
     },
     "execution_count": 6,
     "metadata": {},
     "output_type": "execute_result"
    }
   ],
   "source": [
    "df['Race'].value_counts()"
   ]
  },
  {
   "cell_type": "code",
   "execution_count": 7,
   "id": "8bb18668-7feb-4f11-9e5e-459aaa5d5a63",
   "metadata": {},
   "outputs": [
    {
     "data": {
      "text/plain": [
       "HISPANIC         157654\n",
       "UNKNOWN           23702\n",
       "MULTI-RACIAL      19119\n",
       "HISP              15579\n",
       "NS                 3514\n",
       "                  ...  \n",
       "HIISP                 1\n",
       "MULTI  RACIAL         1\n",
       "HIISPANIC             1\n",
       "MULTI RACIA.          1\n",
       "UNKNOWN/WHITE         1\n",
       "Name: Other_Race, Length: 469, dtype: int64"
      ]
     },
     "execution_count": 7,
     "metadata": {},
     "output_type": "execute_result"
    }
   ],
   "source": [
    "df['Other_Race'].value_counts()"
   ]
  },
  {
   "cell_type": "code",
   "execution_count": 8,
   "id": "c1d1131e-9972-4a81-9a3d-01906283a7ea",
   "metadata": {},
   "outputs": [
    {
     "data": {
      "text/plain": [
       "2.0    372383\n",
       "0.0    236149\n",
       "1.0     59553\n",
       "Name: Hispanic, dtype: int64"
      ]
     },
     "execution_count": 8,
     "metadata": {},
     "output_type": "execute_result"
    }
   ],
   "source": [
    "df['Hispanic'].value_counts()"
   ]
  },
  {
   "cell_type": "code",
   "execution_count": 9,
   "id": "a2e31c46-d2c8-454b-b58a-832c1252c86f",
   "metadata": {},
   "outputs": [
    {
     "data": {
      "text/html": [
       "<div>\n",
       "<style scoped>\n",
       "    .dataframe tbody tr th:only-of-type {\n",
       "        vertical-align: middle;\n",
       "    }\n",
       "\n",
       "    .dataframe tbody tr th {\n",
       "        vertical-align: top;\n",
       "    }\n",
       "\n",
       "    .dataframe thead th {\n",
       "        text-align: right;\n",
       "    }\n",
       "</style>\n",
       "<table border=\"1\" class=\"dataframe\">\n",
       "  <thead>\n",
       "    <tr style=\"text-align: right;\">\n",
       "      <th>Race</th>\n",
       "      <th>0.0</th>\n",
       "      <th>1.0</th>\n",
       "      <th>2.0</th>\n",
       "      <th>3.0</th>\n",
       "      <th>4.0</th>\n",
       "      <th>5.0</th>\n",
       "      <th>6.0</th>\n",
       "    </tr>\n",
       "    <tr>\n",
       "      <th>Other_Race</th>\n",
       "      <th></th>\n",
       "      <th></th>\n",
       "      <th></th>\n",
       "      <th></th>\n",
       "      <th></th>\n",
       "      <th></th>\n",
       "      <th></th>\n",
       "    </tr>\n",
       "  </thead>\n",
       "  <tbody>\n",
       "    <tr>\n",
       "      <th>\"</th>\n",
       "      <td>1.0</td>\n",
       "      <td>1.0</td>\n",
       "      <td>NaN</td>\n",
       "      <td>NaN</td>\n",
       "      <td>NaN</td>\n",
       "      <td>NaN</td>\n",
       "      <td>NaN</td>\n",
       "    </tr>\n",
       "    <tr>\n",
       "      <th>\"OTHER\"</th>\n",
       "      <td>NaN</td>\n",
       "      <td>NaN</td>\n",
       "      <td>NaN</td>\n",
       "      <td>4.0</td>\n",
       "      <td>NaN</td>\n",
       "      <td>NaN</td>\n",
       "      <td>NaN</td>\n",
       "    </tr>\n",
       "    <tr>\n",
       "      <th>-</th>\n",
       "      <td>1.0</td>\n",
       "      <td>NaN</td>\n",
       "      <td>NaN</td>\n",
       "      <td>NaN</td>\n",
       "      <td>NaN</td>\n",
       "      <td>NaN</td>\n",
       "      <td>NaN</td>\n",
       "    </tr>\n",
       "    <tr>\n",
       "      <th>- LAC. TO SCALP</th>\n",
       "      <td>NaN</td>\n",
       "      <td>NaN</td>\n",
       "      <td>NaN</td>\n",
       "      <td>1.0</td>\n",
       "      <td>NaN</td>\n",
       "      <td>NaN</td>\n",
       "      <td>NaN</td>\n",
       "    </tr>\n",
       "    <tr>\n",
       "      <th>.</th>\n",
       "      <td>NaN</td>\n",
       "      <td>2.0</td>\n",
       "      <td>NaN</td>\n",
       "      <td>NaN</td>\n",
       "      <td>NaN</td>\n",
       "      <td>NaN</td>\n",
       "      <td>NaN</td>\n",
       "    </tr>\n",
       "    <tr>\n",
       "      <th>...</th>\n",
       "      <td>...</td>\n",
       "      <td>...</td>\n",
       "      <td>...</td>\n",
       "      <td>...</td>\n",
       "      <td>...</td>\n",
       "      <td>...</td>\n",
       "      <td>...</td>\n",
       "    </tr>\n",
       "    <tr>\n",
       "      <th>`</th>\n",
       "      <td>21.0</td>\n",
       "      <td>88.0</td>\n",
       "      <td>10.0</td>\n",
       "      <td>NaN</td>\n",
       "      <td>2.0</td>\n",
       "      <td>NaN</td>\n",
       "      <td>NaN</td>\n",
       "    </tr>\n",
       "    <tr>\n",
       "      <th>`HISP</th>\n",
       "      <td>NaN</td>\n",
       "      <td>NaN</td>\n",
       "      <td>NaN</td>\n",
       "      <td>2.0</td>\n",
       "      <td>NaN</td>\n",
       "      <td>NaN</td>\n",
       "      <td>NaN</td>\n",
       "    </tr>\n",
       "    <tr>\n",
       "      <th>`HISPANIC</th>\n",
       "      <td>NaN</td>\n",
       "      <td>NaN</td>\n",
       "      <td>NaN</td>\n",
       "      <td>1.0</td>\n",
       "      <td>NaN</td>\n",
       "      <td>NaN</td>\n",
       "      <td>NaN</td>\n",
       "    </tr>\n",
       "    <tr>\n",
       "      <th>``</th>\n",
       "      <td>1.0</td>\n",
       "      <td>NaN</td>\n",
       "      <td>NaN</td>\n",
       "      <td>NaN</td>\n",
       "      <td>NaN</td>\n",
       "      <td>NaN</td>\n",
       "      <td>NaN</td>\n",
       "    </tr>\n",
       "    <tr>\n",
       "      <th>~</th>\n",
       "      <td>NaN</td>\n",
       "      <td>1.0</td>\n",
       "      <td>NaN</td>\n",
       "      <td>NaN</td>\n",
       "      <td>NaN</td>\n",
       "      <td>NaN</td>\n",
       "      <td>NaN</td>\n",
       "    </tr>\n",
       "  </tbody>\n",
       "</table>\n",
       "<p>469 rows × 7 columns</p>\n",
       "</div>"
      ],
      "text/plain": [
       "Race              0.0   1.0   2.0  3.0  4.0  5.0  6.0\n",
       "Other_Race                                           \n",
       "\"                 1.0   1.0   NaN  NaN  NaN  NaN  NaN\n",
       "\"OTHER\"           NaN   NaN   NaN  4.0  NaN  NaN  NaN\n",
       "-                 1.0   NaN   NaN  NaN  NaN  NaN  NaN\n",
       "- LAC. TO SCALP   NaN   NaN   NaN  1.0  NaN  NaN  NaN\n",
       ".                 NaN   2.0   NaN  NaN  NaN  NaN  NaN\n",
       "...               ...   ...   ...  ...  ...  ...  ...\n",
       "`                21.0  88.0  10.0  NaN  2.0  NaN  NaN\n",
       "`HISP             NaN   NaN   NaN  2.0  NaN  NaN  NaN\n",
       "`HISPANIC         NaN   NaN   NaN  1.0  NaN  NaN  NaN\n",
       "``                1.0   NaN   NaN  NaN  NaN  NaN  NaN\n",
       "~                 NaN   1.0   NaN  NaN  NaN  NaN  NaN\n",
       "\n",
       "[469 rows x 7 columns]"
      ]
     },
     "execution_count": 9,
     "metadata": {},
     "output_type": "execute_result"
    }
   ],
   "source": [
    "df[['Race', 'Other_Race']].groupby(['Race', 'Other_Race']).size().unstack().T"
   ]
  },
  {
   "cell_type": "code",
   "execution_count": 10,
   "id": "5acf8275-75e9-4e53-8472-1bc9f0417ca4",
   "metadata": {},
   "outputs": [
    {
     "data": {
      "text/html": [
       "<div>\n",
       "<style scoped>\n",
       "    .dataframe tbody tr th:only-of-type {\n",
       "        vertical-align: middle;\n",
       "    }\n",
       "\n",
       "    .dataframe tbody tr th {\n",
       "        vertical-align: top;\n",
       "    }\n",
       "\n",
       "    .dataframe thead th {\n",
       "        text-align: right;\n",
       "    }\n",
       "</style>\n",
       "<table border=\"1\" class=\"dataframe\">\n",
       "  <thead>\n",
       "    <tr style=\"text-align: right;\">\n",
       "      <th></th>\n",
       "      <th>Hispanic</th>\n",
       "      <th>0.0</th>\n",
       "      <th>1.0</th>\n",
       "      <th>2.0</th>\n",
       "    </tr>\n",
       "    <tr>\n",
       "      <th>Race</th>\n",
       "      <th>Other_Race</th>\n",
       "      <th></th>\n",
       "      <th></th>\n",
       "      <th></th>\n",
       "    </tr>\n",
       "  </thead>\n",
       "  <tbody>\n",
       "    <tr>\n",
       "      <th rowspan=\"11\" valign=\"top\">3.0</th>\n",
       "      <th>1&amp;2</th>\n",
       "      <td>1.0</td>\n",
       "      <td>2.0</td>\n",
       "      <td>4.0</td>\n",
       "    </tr>\n",
       "    <tr>\n",
       "      <th>2&amp;6</th>\n",
       "      <td>NaN</td>\n",
       "      <td>NaN</td>\n",
       "      <td>1.0</td>\n",
       "    </tr>\n",
       "    <tr>\n",
       "      <th>AFRICAN</th>\n",
       "      <td>NaN</td>\n",
       "      <td>NaN</td>\n",
       "      <td>19.0</td>\n",
       "    </tr>\n",
       "    <tr>\n",
       "      <th>ARGENTINIAN</th>\n",
       "      <td>NaN</td>\n",
       "      <td>1.0</td>\n",
       "      <td>NaN</td>\n",
       "    </tr>\n",
       "    <tr>\n",
       "      <th>ASIAN/WHITE</th>\n",
       "      <td>NaN</td>\n",
       "      <td>NaN</td>\n",
       "      <td>2.0</td>\n",
       "    </tr>\n",
       "    <tr>\n",
       "      <th>...</th>\n",
       "      <td>...</td>\n",
       "      <td>...</td>\n",
       "      <td>...</td>\n",
       "    </tr>\n",
       "    <tr>\n",
       "      <th>UNKNOWN/WHITE</th>\n",
       "      <td>NaN</td>\n",
       "      <td>NaN</td>\n",
       "      <td>1.0</td>\n",
       "    </tr>\n",
       "    <tr>\n",
       "      <th>WHITE AND BLACK</th>\n",
       "      <td>NaN</td>\n",
       "      <td>NaN</td>\n",
       "      <td>1.0</td>\n",
       "    </tr>\n",
       "    <tr>\n",
       "      <th>WHITE, BLACK</th>\n",
       "      <td>NaN</td>\n",
       "      <td>NaN</td>\n",
       "      <td>1.0</td>\n",
       "    </tr>\n",
       "    <tr>\n",
       "      <th>WHITE/BLACK/AFR</th>\n",
       "      <td>NaN</td>\n",
       "      <td>NaN</td>\n",
       "      <td>1.0</td>\n",
       "    </tr>\n",
       "    <tr>\n",
       "      <th>WHITE/NATIVE AM</th>\n",
       "      <td>NaN</td>\n",
       "      <td>NaN</td>\n",
       "      <td>1.0</td>\n",
       "    </tr>\n",
       "  </tbody>\n",
       "</table>\n",
       "<p>101 rows × 3 columns</p>\n",
       "</div>"
      ],
      "text/plain": [
       "Hispanic              0.0  1.0   2.0\n",
       "Race Other_Race                     \n",
       "3.0  1&2              1.0  2.0   4.0\n",
       "     2&6              NaN  NaN   1.0\n",
       "     AFRICAN          NaN  NaN  19.0\n",
       "     ARGENTINIAN      NaN  1.0   NaN\n",
       "     ASIAN/WHITE      NaN  NaN   2.0\n",
       "...                   ...  ...   ...\n",
       "     UNKNOWN/WHITE    NaN  NaN   1.0\n",
       "     WHITE AND BLACK  NaN  NaN   1.0\n",
       "     WHITE, BLACK     NaN  NaN   1.0\n",
       "     WHITE/BLACK/AFR  NaN  NaN   1.0\n",
       "     WHITE/NATIVE AM  NaN  NaN   1.0\n",
       "\n",
       "[101 rows x 3 columns]"
      ]
     },
     "execution_count": 10,
     "metadata": {},
     "output_type": "execute_result"
    }
   ],
   "source": [
    "df[['Race', 'Other_Race', 'Hispanic']].groupby(['Race', 'Other_Race', 'Hispanic']).size().unstack()"
   ]
  },
  {
   "cell_type": "markdown",
   "id": "450df525-e1e3-4636-913d-1133c9ef1e2b",
   "metadata": {},
   "source": [
    "### Empty Values"
   ]
  },
  {
   "cell_type": "code",
   "execution_count": 11,
   "id": "4961ea97-e204-4bb4-bb7c-48df1f2f1e2a",
   "metadata": {},
   "outputs": [
    {
     "data": {
      "text/plain": [
       "4"
      ]
     },
     "execution_count": 11,
     "metadata": {},
     "output_type": "execute_result"
    }
   ],
   "source": [
    "len(df) - len(df.dropna(subset=['Race', 'Other_Race', 'Hispanic'], how='all'))"
   ]
  },
  {
   "cell_type": "code",
   "execution_count": 12,
   "id": "ef6d70ff-9c6e-4957-8dbe-8bade3734c18",
   "metadata": {},
   "outputs": [
    {
     "data": {
      "text/plain": [
       "False    3686286\n",
       "True           4\n",
       "Name: Race, dtype: int64"
      ]
     },
     "execution_count": 12,
     "metadata": {},
     "output_type": "execute_result"
    }
   ],
   "source": [
    "df['Race'].isnull().value_counts()"
   ]
  },
  {
   "cell_type": "code",
   "execution_count": 13,
   "id": "a9081fbd-c82a-4b28-9e43-3542d68723be",
   "metadata": {},
   "outputs": [
    {
     "data": {
      "text/plain": [
       "True     3458914\n",
       "False     227376\n",
       "Name: Other_Race, dtype: int64"
      ]
     },
     "execution_count": 13,
     "metadata": {},
     "output_type": "execute_result"
    }
   ],
   "source": [
    "df['Other_Race'].isnull().value_counts()"
   ]
  },
  {
   "cell_type": "code",
   "execution_count": 14,
   "id": "e25dd24e-0a9a-4562-a1db-eb0e4dd8a2af",
   "metadata": {},
   "outputs": [
    {
     "data": {
      "text/plain": [
       "True     3018205\n",
       "False     668085\n",
       "Name: Hispanic, dtype: int64"
      ]
     },
     "execution_count": 14,
     "metadata": {},
     "output_type": "execute_result"
    }
   ],
   "source": [
    "df['Hispanic'].isnull().value_counts()"
   ]
  },
  {
   "cell_type": "markdown",
   "id": "7cc5bb6e-fd4e-4015-9328-2d06ba84d0b3",
   "metadata": {},
   "source": [
    "## Preprocessing\n",
    "\n",
    "### Convert Race and Hispanic from Code to Label"
   ]
  },
  {
   "cell_type": "code",
   "execution_count": 16,
   "id": "ef43de70-d914-4ea7-9952-ecdd8322820f",
   "metadata": {},
   "outputs": [],
   "source": [
    "lookup = pd.read_excel('xlsx/neiss2020.xlsx', sheet_name=1)\n",
    "lookup.replace('               .', np.nan, inplace=True)\n",
    "lookup['Starting value for format'] = lookup['Starting value for format'].astype(float)"
   ]
  },
  {
   "cell_type": "code",
   "execution_count": 17,
   "id": "7d044ce1-0bbb-46af-b651-b195730270d4",
   "metadata": {},
   "outputs": [
    {
     "data": {
      "text/html": [
       "<div>\n",
       "<style scoped>\n",
       "    .dataframe tbody tr th:only-of-type {\n",
       "        vertical-align: middle;\n",
       "    }\n",
       "\n",
       "    .dataframe tbody tr th {\n",
       "        vertical-align: top;\n",
       "    }\n",
       "\n",
       "    .dataframe thead th {\n",
       "        text-align: right;\n",
       "    }\n",
       "</style>\n",
       "<table border=\"1\" class=\"dataframe\">\n",
       "  <thead>\n",
       "    <tr style=\"text-align: right;\">\n",
       "      <th></th>\n",
       "      <th>Format name</th>\n",
       "      <th>Starting value for format</th>\n",
       "      <th>Ending value for format</th>\n",
       "      <th>Format value label</th>\n",
       "    </tr>\n",
       "  </thead>\n",
       "  <tbody>\n",
       "    <tr>\n",
       "      <th>105</th>\n",
       "      <td>HISP</td>\n",
       "      <td>NaN</td>\n",
       "      <td>NaN</td>\n",
       "      <td>NA before 2019</td>\n",
       "    </tr>\n",
       "    <tr>\n",
       "      <th>106</th>\n",
       "      <td>HISP</td>\n",
       "      <td>0.0</td>\n",
       "      <td>0</td>\n",
       "      <td>Unk/Not stated</td>\n",
       "    </tr>\n",
       "    <tr>\n",
       "      <th>107</th>\n",
       "      <td>HISP</td>\n",
       "      <td>1.0</td>\n",
       "      <td>1</td>\n",
       "      <td>Yes</td>\n",
       "    </tr>\n",
       "    <tr>\n",
       "      <th>108</th>\n",
       "      <td>HISP</td>\n",
       "      <td>2.0</td>\n",
       "      <td>2</td>\n",
       "      <td>No</td>\n",
       "    </tr>\n",
       "  </tbody>\n",
       "</table>\n",
       "</div>"
      ],
      "text/plain": [
       "    Format name  Starting value for format Ending value for format  \\\n",
       "105        HISP                        NaN                     NaN   \n",
       "106        HISP                        0.0                       0   \n",
       "107        HISP                        1.0                       1   \n",
       "108        HISP                        2.0                       2   \n",
       "\n",
       "    Format value label  \n",
       "105     NA before 2019  \n",
       "106     Unk/Not stated  \n",
       "107                Yes  \n",
       "108                 No  "
      ]
     },
     "execution_count": 17,
     "metadata": {},
     "output_type": "execute_result"
    }
   ],
   "source": [
    "lookup[lookup['Format name']=='HISP']"
   ]
  },
  {
   "cell_type": "code",
   "execution_count": 18,
   "id": "8810e146-3943-4929-9963-9b73f9838977",
   "metadata": {},
   "outputs": [
    {
     "data": {
      "text/plain": [
       "No     372383\n",
       "Yes     59553\n",
       "Name: Hispanic, dtype: int64"
      ]
     },
     "execution_count": 18,
     "metadata": {},
     "output_type": "execute_result"
    }
   ],
   "source": [
    "df['Hispanic'] = df['Hispanic'].map({1.0:'Yes', 2.0:'No'})\n",
    "df.Hispanic.value_counts()"
   ]
  },
  {
   "cell_type": "code",
   "execution_count": 57,
   "id": "d213d2bb-308a-4795-a869-b450e4b7d991",
   "metadata": {},
   "outputs": [
    {
     "data": {
      "text/html": [
       "<div>\n",
       "<style scoped>\n",
       "    .dataframe tbody tr th:only-of-type {\n",
       "        vertical-align: middle;\n",
       "    }\n",
       "\n",
       "    .dataframe tbody tr th {\n",
       "        vertical-align: top;\n",
       "    }\n",
       "\n",
       "    .dataframe thead th {\n",
       "        text-align: right;\n",
       "    }\n",
       "</style>\n",
       "<table border=\"1\" class=\"dataframe\">\n",
       "  <thead>\n",
       "    <tr style=\"text-align: right;\">\n",
       "      <th></th>\n",
       "      <th>Format name</th>\n",
       "      <th>Starting value for format</th>\n",
       "      <th>Ending value for format</th>\n",
       "      <th>Format value label</th>\n",
       "    </tr>\n",
       "  </thead>\n",
       "  <tbody>\n",
       "    <tr>\n",
       "      <th>1242</th>\n",
       "      <td>RACE</td>\n",
       "      <td>0.0</td>\n",
       "      <td>0</td>\n",
       "      <td>N.S.</td>\n",
       "    </tr>\n",
       "    <tr>\n",
       "      <th>1243</th>\n",
       "      <td>RACE</td>\n",
       "      <td>1.0</td>\n",
       "      <td>1</td>\n",
       "      <td>WHITE</td>\n",
       "    </tr>\n",
       "    <tr>\n",
       "      <th>1244</th>\n",
       "      <td>RACE</td>\n",
       "      <td>2.0</td>\n",
       "      <td>2</td>\n",
       "      <td>BLACK/AFRICAN AMERICAN</td>\n",
       "    </tr>\n",
       "    <tr>\n",
       "      <th>1245</th>\n",
       "      <td>RACE</td>\n",
       "      <td>3.0</td>\n",
       "      <td>3</td>\n",
       "      <td>OTHER</td>\n",
       "    </tr>\n",
       "    <tr>\n",
       "      <th>1246</th>\n",
       "      <td>RACE</td>\n",
       "      <td>4.0</td>\n",
       "      <td>4</td>\n",
       "      <td>ASIAN</td>\n",
       "    </tr>\n",
       "    <tr>\n",
       "      <th>1247</th>\n",
       "      <td>RACE</td>\n",
       "      <td>5.0</td>\n",
       "      <td>5</td>\n",
       "      <td>AMERICAN INDIAN/ALASKA NATIVE</td>\n",
       "    </tr>\n",
       "    <tr>\n",
       "      <th>1248</th>\n",
       "      <td>RACE</td>\n",
       "      <td>6.0</td>\n",
       "      <td>6</td>\n",
       "      <td>NATIVE HAWAIIAN/PACIFIC ISLANDER</td>\n",
       "    </tr>\n",
       "  </tbody>\n",
       "</table>\n",
       "</div>"
      ],
      "text/plain": [
       "     Format name  Starting value for format Ending value for format  \\\n",
       "1242        RACE                        0.0                       0   \n",
       "1243        RACE                        1.0                       1   \n",
       "1244        RACE                        2.0                       2   \n",
       "1245        RACE                        3.0                       3   \n",
       "1246        RACE                        4.0                       4   \n",
       "1247        RACE                        5.0                       5   \n",
       "1248        RACE                        6.0                       6   \n",
       "\n",
       "                    Format value label  \n",
       "1242                              N.S.  \n",
       "1243                             WHITE  \n",
       "1244            BLACK/AFRICAN AMERICAN  \n",
       "1245                             OTHER  \n",
       "1246                             ASIAN  \n",
       "1247     AMERICAN INDIAN/ALASKA NATIVE  \n",
       "1248  NATIVE HAWAIIAN/PACIFIC ISLANDER  "
      ]
     },
     "execution_count": 57,
     "metadata": {},
     "output_type": "execute_result"
    }
   ],
   "source": [
    "race_lookup"
   ]
  },
  {
   "cell_type": "code",
   "execution_count": 19,
   "id": "f6ba3150-8c3f-4dab-b302-7cf16c5736a6",
   "metadata": {},
   "outputs": [
    {
     "data": {
      "text/plain": [
       "WHITE                               1653724\n",
       "N.S.                                1225637\n",
       "BLACK/AFRICAN AMERICAN               540051\n",
       "OTHER                                207477\n",
       "ASIAN                                 45555\n",
       "AMERICAN INDIAN/ALASKA NATIVE         10411\n",
       "NATIVE HAWAIIAN/PACIFIC ISLANDER       3431\n",
       "Name: Race, dtype: int64"
      ]
     },
     "execution_count": 19,
     "metadata": {},
     "output_type": "execute_result"
    }
   ],
   "source": [
    "race_lookup = lookup[lookup['Format name']=='RACE']\n",
    "df['Race'] = df['Race'].map({code:label for code,label in zip(race_lookup['Starting value for format'], race_lookup['Format value label'])})\n",
    "df.Race.value_counts()"
   ]
  },
  {
   "cell_type": "markdown",
   "id": "8c0cd505-3450-49f5-9bf9-e7391264f9c9",
   "metadata": {},
   "source": [
    "### Other Race Clean Up"
   ]
  },
  {
   "cell_type": "code",
   "execution_count": 20,
   "id": "ec4b0724-5609-4299-b7b6-6ae08f2561b2",
   "metadata": {},
   "outputs": [
    {
     "name": "stdout",
     "output_type": "stream",
     "text": [
      "469\n"
     ]
    },
    {
     "data": {
      "text/html": [
       "<div>\n",
       "<style scoped>\n",
       "    .dataframe tbody tr th:only-of-type {\n",
       "        vertical-align: middle;\n",
       "    }\n",
       "\n",
       "    .dataframe tbody tr th {\n",
       "        vertical-align: top;\n",
       "    }\n",
       "\n",
       "    .dataframe thead th {\n",
       "        text-align: right;\n",
       "    }\n",
       "</style>\n",
       "<table border=\"1\" class=\"dataframe\">\n",
       "  <thead>\n",
       "    <tr style=\"text-align: right;\">\n",
       "      <th></th>\n",
       "      <th>Other_Race</th>\n",
       "      <th>Count</th>\n",
       "    </tr>\n",
       "  </thead>\n",
       "  <tbody>\n",
       "    <tr>\n",
       "      <th>0</th>\n",
       "      <td>HISPANIC</td>\n",
       "      <td>157654</td>\n",
       "    </tr>\n",
       "    <tr>\n",
       "      <th>1</th>\n",
       "      <td>UNKNOWN</td>\n",
       "      <td>23702</td>\n",
       "    </tr>\n",
       "    <tr>\n",
       "      <th>2</th>\n",
       "      <td>MULTI-RACIAL</td>\n",
       "      <td>19119</td>\n",
       "    </tr>\n",
       "    <tr>\n",
       "      <th>3</th>\n",
       "      <td>HISP</td>\n",
       "      <td>15579</td>\n",
       "    </tr>\n",
       "    <tr>\n",
       "      <th>4</th>\n",
       "      <td>NS</td>\n",
       "      <td>3514</td>\n",
       "    </tr>\n",
       "  </tbody>\n",
       "</table>\n",
       "</div>"
      ],
      "text/plain": [
       "     Other_Race   Count\n",
       "0      HISPANIC  157654\n",
       "1       UNKNOWN   23702\n",
       "2  MULTI-RACIAL   19119\n",
       "3          HISP   15579\n",
       "4            NS    3514"
      ]
     },
     "execution_count": 20,
     "metadata": {},
     "output_type": "execute_result"
    }
   ],
   "source": [
    "# Get Unique Other Race \n",
    "oRace = df['Other_Race'].value_counts().reset_index(drop=False)\n",
    "oRace.columns = ['Other_Race', 'Count']\n",
    "print(len(oRace)) \n",
    "oRace.head()"
   ]
  },
  {
   "cell_type": "code",
   "execution_count": 21,
   "id": "b0954b25-76a5-4ebb-85c8-f96f39a9db94",
   "metadata": {},
   "outputs": [
    {
     "data": {
      "text/plain": [
       "469"
      ]
     },
     "execution_count": 21,
     "metadata": {},
     "output_type": "execute_result"
    }
   ],
   "source": [
    "# Lower Case\n",
    "oRace['LCRace'] = [str(x).lower() for x in oRace['Other_Race']]\n",
    "oRace['LCRace'].nunique()"
   ]
  },
  {
   "cell_type": "code",
   "execution_count": 22,
   "id": "9b9aa2f7-c652-4980-979b-36bdfddf3668",
   "metadata": {},
   "outputs": [
    {
     "data": {
      "text/plain": [
       "448"
      ]
     },
     "execution_count": 22,
     "metadata": {},
     "output_type": "execute_result"
    }
   ],
   "source": [
    "# Remove Digits\n",
    "oRace['NoNumbsRace'] = [re.sub(r\"\\d+\", \"\", x) for x in oRace['LCRace']]\n",
    "oRace['NoNumbsRace'].nunique()"
   ]
  },
  {
   "cell_type": "code",
   "execution_count": 23,
   "id": "b604b293-cf03-4cee-a447-d13e73ccb04a",
   "metadata": {},
   "outputs": [
    {
     "data": {
      "text/plain": [
       "431"
      ]
     },
     "execution_count": 23,
     "metadata": {},
     "output_type": "execute_result"
    }
   ],
   "source": [
    "# Remove Punctuation/Special Characters\n",
    "oRace['NoPuncRace'] = [re.sub(r'[^\\w\\s]+', ' ', x) for x in oRace['NoNumbsRace']]\n",
    "oRace['NoPuncRace'].nunique()"
   ]
  },
  {
   "cell_type": "code",
   "execution_count": 24,
   "id": "f1925123-d87e-4b12-9248-106721c38535",
   "metadata": {},
   "outputs": [
    {
     "data": {
      "text/plain": [
       "421"
      ]
     },
     "execution_count": 24,
     "metadata": {},
     "output_type": "execute_result"
    }
   ],
   "source": [
    "# Strip Whitespace\n",
    "oRace['StrippedRace'] = oRace['NoPuncRace'].str.strip()\n",
    "oRace['StrippedRace'].nunique()"
   ]
  },
  {
   "cell_type": "code",
   "execution_count": 25,
   "id": "4b95eab0-3935-4dd4-8f3d-95b6112654a1",
   "metadata": {
    "tags": []
   },
   "outputs": [],
   "source": [
    "# map(lambda x: x.isalnum(), oRace['ProcessedRace'].astype(str))"
   ]
  },
  {
   "cell_type": "code",
   "execution_count": 26,
   "id": "cf64f269-5964-4b72-a1b0-6634d3a38c3e",
   "metadata": {},
   "outputs": [],
   "source": [
    "oRace['ProcessedRace'] = oRace['StrippedRace']\n",
    "oRace['str_len'] = [len(x) for x in oRace['ProcessedRace']] \n",
    "oRace['alphanum'] =  oRace['ProcessedRace'].astype(str).apply(lambda x: x.isalnum())"
   ]
  },
  {
   "cell_type": "code",
   "execution_count": 27,
   "id": "88c37689-c0e7-40c3-baad-8a17424c2d06",
   "metadata": {},
   "outputs": [
    {
     "data": {
      "text/plain": [
       "True     309\n",
       "False    160\n",
       "Name: alphanum, dtype: int64"
      ]
     },
     "execution_count": 27,
     "metadata": {},
     "output_type": "execute_result"
    }
   ],
   "source": [
    "oRace['alphanum'].value_counts()"
   ]
  },
  {
   "cell_type": "code",
   "execution_count": 28,
   "id": "10203f80-1793-4ec4-aa0d-fd4765ca92d9",
   "metadata": {},
   "outputs": [
    {
     "data": {
      "text/html": [
       "<div>\n",
       "<style scoped>\n",
       "    .dataframe tbody tr th:only-of-type {\n",
       "        vertical-align: middle;\n",
       "    }\n",
       "\n",
       "    .dataframe tbody tr th {\n",
       "        vertical-align: top;\n",
       "    }\n",
       "\n",
       "    .dataframe thead th {\n",
       "        text-align: right;\n",
       "    }\n",
       "</style>\n",
       "<table border=\"1\" class=\"dataframe\">\n",
       "  <thead>\n",
       "    <tr style=\"text-align: right;\">\n",
       "      <th></th>\n",
       "      <th>Other_Race</th>\n",
       "      <th>Count</th>\n",
       "      <th>LCRace</th>\n",
       "      <th>NoNumbsRace</th>\n",
       "      <th>NoPuncRace</th>\n",
       "      <th>StrippedRace</th>\n",
       "      <th>ProcessedRace</th>\n",
       "      <th>str_len</th>\n",
       "      <th>alphanum</th>\n",
       "    </tr>\n",
       "  </thead>\n",
       "  <tbody>\n",
       "    <tr>\n",
       "      <th>0</th>\n",
       "      <td>HISPANIC</td>\n",
       "      <td>157654</td>\n",
       "      <td>hispanic</td>\n",
       "      <td>hispanic</td>\n",
       "      <td>hispanic</td>\n",
       "      <td>hispanic</td>\n",
       "      <td>hispanic</td>\n",
       "      <td>8</td>\n",
       "      <td>True</td>\n",
       "    </tr>\n",
       "    <tr>\n",
       "      <th>1</th>\n",
       "      <td>UNKNOWN</td>\n",
       "      <td>23702</td>\n",
       "      <td>unknown</td>\n",
       "      <td>unknown</td>\n",
       "      <td>unknown</td>\n",
       "      <td>unknown</td>\n",
       "      <td>unknown</td>\n",
       "      <td>7</td>\n",
       "      <td>True</td>\n",
       "    </tr>\n",
       "    <tr>\n",
       "      <th>2</th>\n",
       "      <td>MULTI-RACIAL</td>\n",
       "      <td>19119</td>\n",
       "      <td>multi-racial</td>\n",
       "      <td>multi-racial</td>\n",
       "      <td>multi racial</td>\n",
       "      <td>multi racial</td>\n",
       "      <td>multi racial</td>\n",
       "      <td>12</td>\n",
       "      <td>False</td>\n",
       "    </tr>\n",
       "    <tr>\n",
       "      <th>3</th>\n",
       "      <td>HISP</td>\n",
       "      <td>15579</td>\n",
       "      <td>hisp</td>\n",
       "      <td>hisp</td>\n",
       "      <td>hisp</td>\n",
       "      <td>hisp</td>\n",
       "      <td>hisp</td>\n",
       "      <td>4</td>\n",
       "      <td>True</td>\n",
       "    </tr>\n",
       "    <tr>\n",
       "      <th>4</th>\n",
       "      <td>NS</td>\n",
       "      <td>3514</td>\n",
       "      <td>ns</td>\n",
       "      <td>ns</td>\n",
       "      <td>ns</td>\n",
       "      <td>ns</td>\n",
       "      <td>ns</td>\n",
       "      <td>2</td>\n",
       "      <td>True</td>\n",
       "    </tr>\n",
       "  </tbody>\n",
       "</table>\n",
       "</div>"
      ],
      "text/plain": [
       "     Other_Race   Count        LCRace   NoNumbsRace    NoPuncRace  \\\n",
       "0      HISPANIC  157654      hispanic      hispanic      hispanic   \n",
       "1       UNKNOWN   23702       unknown       unknown       unknown   \n",
       "2  MULTI-RACIAL   19119  multi-racial  multi-racial  multi racial   \n",
       "3          HISP   15579          hisp          hisp          hisp   \n",
       "4            NS    3514            ns            ns            ns   \n",
       "\n",
       "   StrippedRace ProcessedRace  str_len  alphanum  \n",
       "0      hispanic      hispanic        8      True  \n",
       "1       unknown       unknown        7      True  \n",
       "2  multi racial  multi racial       12     False  \n",
       "3          hisp          hisp        4      True  \n",
       "4            ns            ns        2      True  "
      ]
     },
     "execution_count": 28,
     "metadata": {},
     "output_type": "execute_result"
    }
   ],
   "source": [
    "oRace.head()"
   ]
  },
  {
   "cell_type": "code",
   "execution_count": 29,
   "id": "0abfde93-23b5-4a2e-a523-d7eaaa357467",
   "metadata": {},
   "outputs": [],
   "source": [
    "def preprocess_text(word):\n",
    "    if str(word)=='nan':\n",
    "        return np.nan\n",
    "    else:\n",
    "        # lower case\n",
    "        word = word.lower()\n",
    "        # remove digits\n",
    "        word = re.sub(r'\\d+', '', word)\n",
    "        # remove punctuation and special chars\n",
    "        word = re.sub(r'[^\\w\\s]+', ' ', word)\n",
    "        # strip whitespace\n",
    "        word = word.strip()\n",
    "        \n",
    "        return word"
   ]
  },
  {
   "cell_type": "code",
   "execution_count": 30,
   "id": "50ea4557-5667-4155-868b-e95e5050f7b2",
   "metadata": {},
   "outputs": [
    {
     "data": {
      "text/plain": [
       "NaN               3458914\n",
       "hispanic           157684\n",
       "unknown             23702\n",
       "multi racial        19468\n",
       "hisp                15582\n",
       "                   ...   \n",
       "african somali          1\n",
       "hiso                    1\n",
       "hispanic s p b          1\n",
       "qryomhispanic           1\n",
       "unknown white           1\n",
       "Name: Other_Race, Length: 422, dtype: int64"
      ]
     },
     "execution_count": 30,
     "metadata": {},
     "output_type": "execute_result"
    }
   ],
   "source": [
    "df['Other_Race'].apply(preprocess_text).value_counts(dropna=False)"
   ]
  },
  {
   "cell_type": "markdown",
   "id": "fac388ea-f338-4770-b680-ccb82b13c39f",
   "metadata": {},
   "source": [
    "### Fuzzy Matching on Other Race"
   ]
  },
  {
   "cell_type": "code",
   "execution_count": 31,
   "id": "a1758028-2302-4684-a49c-5e028681ec27",
   "metadata": {},
   "outputs": [],
   "source": [
    "# # fuzzywuzzy package has been moved to thefuzz\n",
    "# # https://github.com/seatgeek/thefuzz\n",
    "# from fuzzywuzzy import fuzz\n",
    "# import fuzzywuzzy.process as fuzz_process"
   ]
  },
  {
   "cell_type": "code",
   "execution_count": 32,
   "id": "dd0554a7-dba5-44e3-8c3b-1c961973c4f0",
   "metadata": {},
   "outputs": [],
   "source": [
    "from thefuzz import fuzz\n",
    "import thefuzz.process as fuzz_process"
   ]
  },
  {
   "cell_type": "code",
   "execution_count": 33,
   "id": "6f5646eb-82a7-4558-889b-a56a3b25573d",
   "metadata": {
    "tags": []
   },
   "outputs": [],
   "source": [
    "oRacesL = oRace.loc[((oRace['ProcessedRace']  != '') & (oRace['ProcessedRace']  != '``') & (oRace['str_len']  >= 2))]['ProcessedRace'].unique()\n",
    "\n",
    "race_match = {}\n",
    "for race in oRacesL:\n",
    "    race_match[race] = []\n",
    "    for race1 in oRacesL:\n",
    "        res = fuzz_process.extract(race, [race1], scorer=fuzz.token_sort_ratio, limit=1)\n",
    "        race_match[race].append(res[0][1])    \n",
    "\n",
    "race_match = pd.DataFrame.from_dict(race_match, orient='index', columns = oRacesL)"
   ]
  },
  {
   "cell_type": "code",
   "execution_count": 34,
   "id": "7a259639-3403-44a1-90fe-7e30c30234a8",
   "metadata": {},
   "outputs": [
    {
     "data": {
      "text/html": [
       "<div>\n",
       "<style scoped>\n",
       "    .dataframe tbody tr th:only-of-type {\n",
       "        vertical-align: middle;\n",
       "    }\n",
       "\n",
       "    .dataframe tbody tr th {\n",
       "        vertical-align: top;\n",
       "    }\n",
       "\n",
       "    .dataframe thead th {\n",
       "        text-align: right;\n",
       "    }\n",
       "</style>\n",
       "<table border=\"1\" class=\"dataframe\">\n",
       "  <thead>\n",
       "    <tr style=\"text-align: right;\">\n",
       "      <th></th>\n",
       "      <th>hispanic</th>\n",
       "      <th>unknown</th>\n",
       "      <th>multi racial</th>\n",
       "      <th>hisp</th>\n",
       "      <th>ns</th>\n",
       "      <th>somali</th>\n",
       "      <th>unk</th>\n",
       "      <th>unkn</th>\n",
       "      <th>multiracial</th>\n",
       "      <th>biracial</th>\n",
       "      <th>...</th>\n",
       "      <th>haitian</th>\n",
       "      <th>hmong</th>\n",
       "      <th>multiple racial</th>\n",
       "      <th>indian   black</th>\n",
       "      <th>hispanie</th>\n",
       "      <th>uinknown</th>\n",
       "      <th>wolof</th>\n",
       "      <th>nispanic</th>\n",
       "      <th>american samoa</th>\n",
       "      <th>unknown white</th>\n",
       "    </tr>\n",
       "  </thead>\n",
       "  <tbody>\n",
       "    <tr>\n",
       "      <th>hispanic</th>\n",
       "      <td>100</td>\n",
       "      <td>13</td>\n",
       "      <td>30</td>\n",
       "      <td>67</td>\n",
       "      <td>20</td>\n",
       "      <td>43</td>\n",
       "      <td>18</td>\n",
       "      <td>17</td>\n",
       "      <td>32</td>\n",
       "      <td>38</td>\n",
       "      <td>...</td>\n",
       "      <td>53</td>\n",
       "      <td>31</td>\n",
       "      <td>35</td>\n",
       "      <td>30</td>\n",
       "      <td>88</td>\n",
       "      <td>25</td>\n",
       "      <td>0</td>\n",
       "      <td>88</td>\n",
       "      <td>27</td>\n",
       "      <td>19</td>\n",
       "    </tr>\n",
       "    <tr>\n",
       "      <th>unknown</th>\n",
       "      <td>13</td>\n",
       "      <td>100</td>\n",
       "      <td>11</td>\n",
       "      <td>0</td>\n",
       "      <td>22</td>\n",
       "      <td>15</td>\n",
       "      <td>60</td>\n",
       "      <td>73</td>\n",
       "      <td>11</td>\n",
       "      <td>0</td>\n",
       "      <td>...</td>\n",
       "      <td>14</td>\n",
       "      <td>33</td>\n",
       "      <td>9</td>\n",
       "      <td>32</td>\n",
       "      <td>13</td>\n",
       "      <td>93</td>\n",
       "      <td>17</td>\n",
       "      <td>27</td>\n",
       "      <td>19</td>\n",
       "      <td>70</td>\n",
       "    </tr>\n",
       "    <tr>\n",
       "      <th>multi racial</th>\n",
       "      <td>30</td>\n",
       "      <td>11</td>\n",
       "      <td>100</td>\n",
       "      <td>12</td>\n",
       "      <td>0</td>\n",
       "      <td>33</td>\n",
       "      <td>13</td>\n",
       "      <td>12</td>\n",
       "      <td>96</td>\n",
       "      <td>70</td>\n",
       "      <td>...</td>\n",
       "      <td>32</td>\n",
       "      <td>12</td>\n",
       "      <td>89</td>\n",
       "      <td>42</td>\n",
       "      <td>30</td>\n",
       "      <td>20</td>\n",
       "      <td>12</td>\n",
       "      <td>30</td>\n",
       "      <td>38</td>\n",
       "      <td>24</td>\n",
       "    </tr>\n",
       "    <tr>\n",
       "      <th>hisp</th>\n",
       "      <td>67</td>\n",
       "      <td>0</td>\n",
       "      <td>12</td>\n",
       "      <td>100</td>\n",
       "      <td>33</td>\n",
       "      <td>20</td>\n",
       "      <td>0</td>\n",
       "      <td>0</td>\n",
       "      <td>13</td>\n",
       "      <td>17</td>\n",
       "      <td>...</td>\n",
       "      <td>36</td>\n",
       "      <td>22</td>\n",
       "      <td>21</td>\n",
       "      <td>12</td>\n",
       "      <td>67</td>\n",
       "      <td>17</td>\n",
       "      <td>0</td>\n",
       "      <td>50</td>\n",
       "      <td>22</td>\n",
       "      <td>24</td>\n",
       "    </tr>\n",
       "    <tr>\n",
       "      <th>ns</th>\n",
       "      <td>20</td>\n",
       "      <td>22</td>\n",
       "      <td>0</td>\n",
       "      <td>33</td>\n",
       "      <td>100</td>\n",
       "      <td>25</td>\n",
       "      <td>40</td>\n",
       "      <td>33</td>\n",
       "      <td>0</td>\n",
       "      <td>0</td>\n",
       "      <td>...</td>\n",
       "      <td>22</td>\n",
       "      <td>29</td>\n",
       "      <td>0</td>\n",
       "      <td>14</td>\n",
       "      <td>20</td>\n",
       "      <td>20</td>\n",
       "      <td>0</td>\n",
       "      <td>40</td>\n",
       "      <td>25</td>\n",
       "      <td>13</td>\n",
       "    </tr>\n",
       "    <tr>\n",
       "      <th>...</th>\n",
       "      <td>...</td>\n",
       "      <td>...</td>\n",
       "      <td>...</td>\n",
       "      <td>...</td>\n",
       "      <td>...</td>\n",
       "      <td>...</td>\n",
       "      <td>...</td>\n",
       "      <td>...</td>\n",
       "      <td>...</td>\n",
       "      <td>...</td>\n",
       "      <td>...</td>\n",
       "      <td>...</td>\n",
       "      <td>...</td>\n",
       "      <td>...</td>\n",
       "      <td>...</td>\n",
       "      <td>...</td>\n",
       "      <td>...</td>\n",
       "      <td>...</td>\n",
       "      <td>...</td>\n",
       "      <td>...</td>\n",
       "      <td>...</td>\n",
       "    </tr>\n",
       "    <tr>\n",
       "      <th>uinknown</th>\n",
       "      <td>25</td>\n",
       "      <td>93</td>\n",
       "      <td>20</td>\n",
       "      <td>17</td>\n",
       "      <td>20</td>\n",
       "      <td>14</td>\n",
       "      <td>55</td>\n",
       "      <td>67</td>\n",
       "      <td>21</td>\n",
       "      <td>12</td>\n",
       "      <td>...</td>\n",
       "      <td>27</td>\n",
       "      <td>31</td>\n",
       "      <td>17</td>\n",
       "      <td>30</td>\n",
       "      <td>25</td>\n",
       "      <td>100</td>\n",
       "      <td>15</td>\n",
       "      <td>25</td>\n",
       "      <td>27</td>\n",
       "      <td>67</td>\n",
       "    </tr>\n",
       "    <tr>\n",
       "      <th>wolof</th>\n",
       "      <td>0</td>\n",
       "      <td>17</td>\n",
       "      <td>12</td>\n",
       "      <td>0</td>\n",
       "      <td>0</td>\n",
       "      <td>36</td>\n",
       "      <td>0</td>\n",
       "      <td>0</td>\n",
       "      <td>12</td>\n",
       "      <td>15</td>\n",
       "      <td>...</td>\n",
       "      <td>0</td>\n",
       "      <td>20</td>\n",
       "      <td>10</td>\n",
       "      <td>12</td>\n",
       "      <td>0</td>\n",
       "      <td>15</td>\n",
       "      <td>100</td>\n",
       "      <td>0</td>\n",
       "      <td>11</td>\n",
       "      <td>11</td>\n",
       "    </tr>\n",
       "    <tr>\n",
       "      <th>nispanic</th>\n",
       "      <td>88</td>\n",
       "      <td>27</td>\n",
       "      <td>30</td>\n",
       "      <td>50</td>\n",
       "      <td>40</td>\n",
       "      <td>43</td>\n",
       "      <td>18</td>\n",
       "      <td>33</td>\n",
       "      <td>32</td>\n",
       "      <td>38</td>\n",
       "      <td>...</td>\n",
       "      <td>40</td>\n",
       "      <td>15</td>\n",
       "      <td>35</td>\n",
       "      <td>40</td>\n",
       "      <td>75</td>\n",
       "      <td>25</td>\n",
       "      <td>0</td>\n",
       "      <td>100</td>\n",
       "      <td>27</td>\n",
       "      <td>29</td>\n",
       "    </tr>\n",
       "    <tr>\n",
       "      <th>american samoa</th>\n",
       "      <td>27</td>\n",
       "      <td>19</td>\n",
       "      <td>38</td>\n",
       "      <td>22</td>\n",
       "      <td>25</td>\n",
       "      <td>30</td>\n",
       "      <td>12</td>\n",
       "      <td>11</td>\n",
       "      <td>32</td>\n",
       "      <td>27</td>\n",
       "      <td>...</td>\n",
       "      <td>38</td>\n",
       "      <td>21</td>\n",
       "      <td>34</td>\n",
       "      <td>31</td>\n",
       "      <td>27</td>\n",
       "      <td>27</td>\n",
       "      <td>11</td>\n",
       "      <td>27</td>\n",
       "      <td>100</td>\n",
       "      <td>15</td>\n",
       "    </tr>\n",
       "    <tr>\n",
       "      <th>unknown white</th>\n",
       "      <td>19</td>\n",
       "      <td>70</td>\n",
       "      <td>24</td>\n",
       "      <td>24</td>\n",
       "      <td>13</td>\n",
       "      <td>21</td>\n",
       "      <td>38</td>\n",
       "      <td>47</td>\n",
       "      <td>17</td>\n",
       "      <td>10</td>\n",
       "      <td>...</td>\n",
       "      <td>30</td>\n",
       "      <td>22</td>\n",
       "      <td>21</td>\n",
       "      <td>24</td>\n",
       "      <td>29</td>\n",
       "      <td>67</td>\n",
       "      <td>11</td>\n",
       "      <td>29</td>\n",
       "      <td>15</td>\n",
       "      <td>100</td>\n",
       "    </tr>\n",
       "  </tbody>\n",
       "</table>\n",
       "<p>410 rows × 410 columns</p>\n",
       "</div>"
      ],
      "text/plain": [
       "                hispanic  unknown  multi racial  hisp   ns  somali  unk  unkn  \\\n",
       "hispanic             100       13            30    67   20      43   18    17   \n",
       "unknown               13      100            11     0   22      15   60    73   \n",
       "multi racial          30       11           100    12    0      33   13    12   \n",
       "hisp                  67        0            12   100   33      20    0     0   \n",
       "ns                    20       22             0    33  100      25   40    33   \n",
       "...                  ...      ...           ...   ...  ...     ...  ...   ...   \n",
       "uinknown              25       93            20    17   20      14   55    67   \n",
       "wolof                  0       17            12     0    0      36    0     0   \n",
       "nispanic              88       27            30    50   40      43   18    33   \n",
       "american samoa        27       19            38    22   25      30   12    11   \n",
       "unknown white         19       70            24    24   13      21   38    47   \n",
       "\n",
       "                multiracial  biracial  ...  haitian  hmong  multiple racial  \\\n",
       "hispanic                 32        38  ...       53     31               35   \n",
       "unknown                  11         0  ...       14     33                9   \n",
       "multi racial             96        70  ...       32     12               89   \n",
       "hisp                     13        17  ...       36     22               21   \n",
       "ns                        0         0  ...       22     29                0   \n",
       "...                     ...       ...  ...      ...    ...              ...   \n",
       "uinknown                 21        12  ...       27     31               17   \n",
       "wolof                    12        15  ...        0     20               10   \n",
       "nispanic                 32        38  ...       40     15               35   \n",
       "american samoa           32        27  ...       38     21               34   \n",
       "unknown white            17        10  ...       30     22               21   \n",
       "\n",
       "                indian   black  hispanie  uinknown  wolof  nispanic  \\\n",
       "hispanic                    30        88        25      0        88   \n",
       "unknown                     32        13        93     17        27   \n",
       "multi racial                42        30        20     12        30   \n",
       "hisp                        12        67        17      0        50   \n",
       "ns                          14        20        20      0        40   \n",
       "...                        ...       ...       ...    ...       ...   \n",
       "uinknown                    30        25       100     15        25   \n",
       "wolof                       12         0        15    100         0   \n",
       "nispanic                    40        75        25      0       100   \n",
       "american samoa              31        27        27     11        27   \n",
       "unknown white               24        29        67     11        29   \n",
       "\n",
       "                american samoa  unknown white  \n",
       "hispanic                    27             19  \n",
       "unknown                     19             70  \n",
       "multi racial                38             24  \n",
       "hisp                        22             24  \n",
       "ns                          25             13  \n",
       "...                        ...            ...  \n",
       "uinknown                    27             67  \n",
       "wolof                       11             11  \n",
       "nispanic                    27             29  \n",
       "american samoa             100             15  \n",
       "unknown white               15            100  \n",
       "\n",
       "[410 rows x 410 columns]"
      ]
     },
     "execution_count": 34,
     "metadata": {},
     "output_type": "execute_result"
    }
   ],
   "source": [
    "race_match"
   ]
  },
  {
   "cell_type": "code",
   "execution_count": 35,
   "id": "c4b0e2df-a632-4758-a86b-a1360a9fe422",
   "metadata": {},
   "outputs": [
    {
     "data": {
      "text/plain": [
       "array(['hispanic', 'hisapnic', 'hispainc', 'hsipanic', 'hipanic',\n",
       "       'non hispanic', 'hispanc', 'hspanic', 'hispainic', 'hispanci',\n",
       "       'hipsanic', 'hisapanic', 'hisipanic', 'hispanic  pr', 'hispani',\n",
       "       'hispnic', 'hidpanic', 'hispnaic', 'hispaic', 'haspanic',\n",
       "       'hispanice', 'hispaniic', 'hispnanic', 'hisanic', 'hiapanic',\n",
       "       'hispaanic', 'hisoanic', 'hispsanic', 'hispanich', 'nonhispanic',\n",
       "       'hispsnic', 'hispoanic', 'hispanicx', 'hisspanic', 'hhispanic',\n",
       "       'hisppanic', 'hispaniv', 'hispan', 'and hispanic', 'his panic',\n",
       "       'hispapnic', 'ispanic', 'hispain', 'hispaini', 'spanic',\n",
       "       'bispanic', 'hipani', 'hispaninc', 'hispainic  la',\n",
       "       'hispanic  mexic', 'black hispanic', 'black  hispanic',\n",
       "       'hispanic black', 'hispanic  domin', 'hs panic', 'gispanic',\n",
       "       'hispa nic', 'hispabnic', 'hyspanic', 'hispanic latin',\n",
       "       'hispanica', 'hisdpanic', 'huispanic', 'hispanid', 'hispanicq',\n",
       "       'hsispanic', 'hipspanic', 'blk hispanic', 'hiispanic', 'hispanix',\n",
       "       'hispaniiic', 'hispan ic', 'hidpsnic', 'qryomhispanic',\n",
       "       'hidspanic', 'asion hispanic', 'hispanic s p b', 'hispanie',\n",
       "       'nispanic'], dtype=object)"
      ]
     },
     "execution_count": 35,
     "metadata": {},
     "output_type": "execute_result"
    }
   ],
   "source": [
    "race_match.loc[race_match['hispanic']>70].index.values"
   ]
  },
  {
   "cell_type": "code",
   "execution_count": 36,
   "id": "6d9a64a4-ab5f-403a-8c5b-4570b2bee9aa",
   "metadata": {},
   "outputs": [
    {
     "data": {
      "text/plain": [
       "['non hispanic', 'nonhispanic']"
      ]
     },
     "execution_count": 36,
     "metadata": {},
     "output_type": "execute_result"
    }
   ],
   "source": [
    "[w for w in race_match.loc[race_match['hispanic']>70].index.values if 'no' in w]"
   ]
  },
  {
   "cell_type": "code",
   "execution_count": 37,
   "id": "4868003c-15f5-483e-b505-328a2cce6a57",
   "metadata": {},
   "outputs": [
    {
     "data": {
      "text/plain": [
       "array(['hispanic', 'hisapnic', 'hispainc', 'hsipanic', 'hipanic',\n",
       "       'hispanc', 'hspanic', 'hispainic', 'hispanci', 'hipsanic',\n",
       "       'hisapanic', 'hisipanic', 'hispanic  pr', 'hispani', 'hispnic',\n",
       "       'hidpanic', 'hispnaic', 'hispaic', 'haspanic', 'hispanice',\n",
       "       'hispaniic', 'hispnanic', 'hisanic', 'hiapanic', 'hispaanic',\n",
       "       'hisoanic', 'hispsanic', 'hispanich', 'hispsnic', 'hispoanic',\n",
       "       'hispanicx', 'hisspanic', 'hhispanic', 'hisppanic', 'hispaniv',\n",
       "       'hispan', 'and hispanic', 'his panic', 'hispapnic', 'ispanic',\n",
       "       'hispain', 'hispaini', 'spanic', 'bispanic', 'hipani', 'hispaninc',\n",
       "       'hispainic  la', 'hispanic  mexic', 'black hispanic',\n",
       "       'black  hispanic', 'hispanic black', 'hispanic  domin', 'hs panic',\n",
       "       'gispanic', 'hispa nic', 'hispabnic', 'hyspanic', 'hispanic latin',\n",
       "       'hispanica', 'hisdpanic', 'huispanic', 'hispanid', 'hispanicq',\n",
       "       'hsispanic', 'hipspanic', 'blk hispanic', 'hiispanic', 'hispanix',\n",
       "       'hispaniiic', 'hispan ic', 'hidpsnic', 'qryomhispanic',\n",
       "       'hidspanic', 'asion hispanic', 'hispanic s p b', 'hispanie',\n",
       "       'nispanic'], dtype='<U15')"
      ]
     },
     "execution_count": 37,
     "metadata": {},
     "output_type": "execute_result"
    }
   ],
   "source": [
    "hisp_match = race_match.loc[race_match['hispanic']>70].index.values\n",
    "hisp_match = np.array([match for match in hisp_match if \"no\" not in match])\n",
    "hisp_match"
   ]
  },
  {
   "cell_type": "code",
   "execution_count": 38,
   "id": "9ad200c1-47a0-402e-9a50-29da0d582a74",
   "metadata": {},
   "outputs": [
    {
     "data": {
      "text/plain": [
       "['hisp',\n",
       " 'his',\n",
       " 'hiswp',\n",
       " 'hisp anic',\n",
       " 'hispanic mexica',\n",
       " 'his anic',\n",
       " 'hisdp',\n",
       " 'hispanicmjjjjjj',\n",
       " 'hispanic puerto',\n",
       " 'hiso']"
      ]
     },
     "execution_count": 38,
     "metadata": {},
     "output_type": "execute_result"
    }
   ],
   "source": [
    "[x for x in race_match.index if 'his' in x and x not in hisp_match and 'no' not in x]"
   ]
  },
  {
   "cell_type": "code",
   "execution_count": 39,
   "id": "eab3eef3-4ac4-4b16-a8b9-b634c28041b2",
   "metadata": {},
   "outputs": [
    {
     "data": {
      "text/plain": [
       "array(['latino', 'latin', 'latvian'], dtype=object)"
      ]
     },
     "execution_count": 39,
     "metadata": {},
     "output_type": "execute_result"
    }
   ],
   "source": [
    "latino_match = race_match.loc[race_match['latino']>70].index.values\n",
    "latino_match"
   ]
  },
  {
   "cell_type": "code",
   "execution_count": 40,
   "id": "8a49d4e9-c73e-44f7-a864-e15a1d263886",
   "metadata": {},
   "outputs": [
    {
     "data": {
      "text/plain": [
       "array(['multi racial', 'multiracial', 'biracial', 'multracial',\n",
       "       'mult racial', 'multi race', 'bi multiracial', 'multirace',\n",
       "       'multi racia', 'multil racial', 'multi  racial', 'multiracail',\n",
       "       'multo racial', 'multiple racial'], dtype=object)"
      ]
     },
     "execution_count": 40,
     "metadata": {},
     "output_type": "execute_result"
    }
   ],
   "source": [
    "race_match.loc[race_match['multiracial']>70].index.values"
   ]
  },
  {
   "cell_type": "code",
   "execution_count": 41,
   "id": "193e525d-15e1-4fa8-94f9-9ec23dc93472",
   "metadata": {},
   "outputs": [
    {
     "data": {
      "text/plain": [
       "['two more races', 'more races', 'two or more rac']"
      ]
     },
     "execution_count": 41,
     "metadata": {},
     "output_type": "execute_result"
    }
   ],
   "source": [
    "[x for x in race_match.index if 'more' in x]"
   ]
  },
  {
   "cell_type": "code",
   "execution_count": 42,
   "id": "838211d5-03a7-44cb-bbe6-9332283c5f52",
   "metadata": {},
   "outputs": [
    {
     "data": {
      "text/plain": [
       "array(['multi racial', 'multiracial', 'biracial', 'multracial',\n",
       "       'mult racial', 'multi race', 'bi multiracial', 'multirace',\n",
       "       'multi racia', 'multil racial', 'multi  racial', 'multiracail',\n",
       "       'multo racial', 'multiple racial', 'two more races', 'more races',\n",
       "       'two or more rac'], dtype=object)"
      ]
     },
     "execution_count": 42,
     "metadata": {},
     "output_type": "execute_result"
    }
   ],
   "source": [
    "multiracial_match = race_match.loc[race_match['multiracial']>70].index.values\n",
    "multiracial_match = np.append(multiracial_match, [x for x in race_match.index if 'more' in x])\n",
    "multiracial_match"
   ]
  },
  {
   "cell_type": "code",
   "execution_count": 43,
   "id": "01d528b6-49fc-48bf-8636-c6f72602417d",
   "metadata": {},
   "outputs": [
    {
     "data": {
      "text/plain": [
       "array(['unknown', 'unkn', 'uknown', 'unknwon', 'unkown', 'unknonw',\n",
       "       'unknokwn', 'unnown', 'ukknown', 'sunknown', 'unknonwn', 'unknowm',\n",
       "       'unwknown', 'unknow n', 'unknow', 'unknowmn', 'unknkown',\n",
       "       'unkinown', 'uniknown', 'unknnown', 'uinknown'], dtype=object)"
      ]
     },
     "execution_count": 43,
     "metadata": {},
     "output_type": "execute_result"
    }
   ],
   "source": [
    "unk_match = race_match.loc[race_match['unknown']>70].index.values\n",
    "unk_match"
   ]
  },
  {
   "cell_type": "code",
   "execution_count": 44,
   "id": "cd4d02de-d227-4d5b-89f8-2e54acfa547a",
   "metadata": {},
   "outputs": [
    {
     "data": {
      "text/plain": [
       "array(['declined', 'decline', 'chinese', 'pt declined', 'declined to ans',\n",
       "       'declined to lis', 'refused decline', 'declines to lis',\n",
       "       'family declined'], dtype=object)"
      ]
     },
     "execution_count": 44,
     "metadata": {},
     "output_type": "execute_result"
    }
   ],
   "source": [
    "decline_match = race_match.loc[race_match['decline']>55].index.values\n",
    "decline_match"
   ]
  },
  {
   "cell_type": "markdown",
   "id": "f7cfad81-21a5-4da3-87bf-7e6714878a4b",
   "metadata": {},
   "source": [
    "### Move Hispanic/Latino from `Other_Race` to `Hispanic`"
   ]
  },
  {
   "cell_type": "code",
   "execution_count": 45,
   "id": "9ee97310-b8d0-422a-a6be-23dbc17e7593",
   "metadata": {},
   "outputs": [
    {
     "data": {
      "text/html": [
       "<div>\n",
       "<style scoped>\n",
       "    .dataframe tbody tr th:only-of-type {\n",
       "        vertical-align: middle;\n",
       "    }\n",
       "\n",
       "    .dataframe tbody tr th {\n",
       "        vertical-align: top;\n",
       "    }\n",
       "\n",
       "    .dataframe thead th {\n",
       "        text-align: right;\n",
       "    }\n",
       "</style>\n",
       "<table border=\"1\" class=\"dataframe\">\n",
       "  <thead>\n",
       "    <tr style=\"text-align: right;\">\n",
       "      <th></th>\n",
       "      <th>Race</th>\n",
       "      <th>Other_Race</th>\n",
       "      <th>Hispanic</th>\n",
       "    </tr>\n",
       "  </thead>\n",
       "  <tbody>\n",
       "    <tr>\n",
       "      <th>0</th>\n",
       "      <td>WHITE</td>\n",
       "      <td>NaN</td>\n",
       "      <td>NaN</td>\n",
       "    </tr>\n",
       "    <tr>\n",
       "      <th>1</th>\n",
       "      <td>ASIAN</td>\n",
       "      <td>NaN</td>\n",
       "      <td>NaN</td>\n",
       "    </tr>\n",
       "    <tr>\n",
       "      <th>2</th>\n",
       "      <td>WHITE</td>\n",
       "      <td>NaN</td>\n",
       "      <td>NaN</td>\n",
       "    </tr>\n",
       "    <tr>\n",
       "      <th>3</th>\n",
       "      <td>WHITE</td>\n",
       "      <td>NaN</td>\n",
       "      <td>NaN</td>\n",
       "    </tr>\n",
       "    <tr>\n",
       "      <th>4</th>\n",
       "      <td>WHITE</td>\n",
       "      <td>NaN</td>\n",
       "      <td>NaN</td>\n",
       "    </tr>\n",
       "  </tbody>\n",
       "</table>\n",
       "</div>"
      ],
      "text/plain": [
       "    Race Other_Race Hispanic\n",
       "0  WHITE        NaN      NaN\n",
       "1  ASIAN        NaN      NaN\n",
       "2  WHITE        NaN      NaN\n",
       "3  WHITE        NaN      NaN\n",
       "4  WHITE        NaN      NaN"
      ]
     },
     "execution_count": 45,
     "metadata": {},
     "output_type": "execute_result"
    }
   ],
   "source": [
    "# first, find values of Hispanic when Other_Race contains hispanic_matches\n",
    "df_abr = df[['Race', 'Other_Race', 'Hispanic']].copy()\n",
    "df_abr.head()"
   ]
  },
  {
   "cell_type": "code",
   "execution_count": 46,
   "id": "ac968322-4207-4819-abf0-e1f341d47437",
   "metadata": {},
   "outputs": [
    {
     "data": {
      "text/plain": [
       "hispanic          157684\n",
       "unknown            23702\n",
       "multi racial       19468\n",
       "hisp               15582\n",
       "ns                  3514\n",
       "                   ...  \n",
       "african somali         1\n",
       "hiso                   1\n",
       "hispanic s p b         1\n",
       "qryomhispanic          1\n",
       "unknown white          1\n",
       "Name: Other_Race_Preprocessed, Length: 421, dtype: int64"
      ]
     },
     "execution_count": 46,
     "metadata": {},
     "output_type": "execute_result"
    }
   ],
   "source": [
    "df_abr['Other_Race_Preprocessed'] = df_abr['Other_Race'].apply(preprocess_text)\n",
    "df_abr['Other_Race_Preprocessed'].value_counts()"
   ]
  },
  {
   "cell_type": "code",
   "execution_count": 47,
   "id": "d12743fd-1a1d-446e-a3c5-1e4a3fa546d9",
   "metadata": {},
   "outputs": [
    {
     "data": {
      "text/plain": [
       "NaN    156384\n",
       "Yes      1658\n",
       "Name: Hispanic, dtype: int64"
      ]
     },
     "execution_count": 47,
     "metadata": {},
     "output_type": "execute_result"
    }
   ],
   "source": [
    "df_abr[df_abr.Other_Race_Preprocessed.isin(hisp_match)].Hispanic.value_counts(dropna=False)"
   ]
  },
  {
   "cell_type": "code",
   "execution_count": 48,
   "id": "3a66bbee-3db4-44b0-a266-932e5142fb26",
   "metadata": {},
   "outputs": [
    {
     "data": {
      "text/plain": [
       "NaN    0.882826\n",
       "No     0.101018\n",
       "Yes    0.016155\n",
       "Name: Hispanic, dtype: float64"
      ]
     },
     "execution_count": 48,
     "metadata": {},
     "output_type": "execute_result"
    }
   ],
   "source": [
    "df_abr.Hispanic.value_counts(dropna=False)/len(df_abr)"
   ]
  },
  {
   "cell_type": "code",
   "execution_count": 49,
   "id": "e32d7e7d-c919-4d2b-a03c-d8e654e0b13f",
   "metadata": {},
   "outputs": [
    {
     "data": {
      "text/plain": [
       "NaN    0.840403\n",
       "No     0.101018\n",
       "Yes    0.058578\n",
       "Name: Hispanic_filled, dtype: float64"
      ]
     },
     "execution_count": 49,
     "metadata": {},
     "output_type": "execute_result"
    }
   ],
   "source": [
    "# if other_race (after preprocessing) contains any of the hispanic_matches\n",
    "# change Hispanic to 'Yes'\n",
    "df_abr['Hispanic_filled'] = np.where(df_abr.Other_Race_Preprocessed.isin(hisp_match), 'Yes', df_abr.Hispanic)\n",
    "df_abr.Hispanic_filled.value_counts(dropna=False)/len(df_abr)"
   ]
  },
  {
   "cell_type": "code",
   "execution_count": 50,
   "id": "0c9d80c5-83cd-4b35-a04e-a879aff7acf5",
   "metadata": {},
   "outputs": [
    {
     "data": {
      "text/plain": [
       "array(['latino', 'latin', 'latvian'], dtype=object)"
      ]
     },
     "execution_count": 50,
     "metadata": {},
     "output_type": "execute_result"
    }
   ],
   "source": [
    "# do the same with 'latino'\n",
    "latino_match"
   ]
  },
  {
   "cell_type": "code",
   "execution_count": 51,
   "id": "e0f7860d-8fe0-472d-8e60-88a0782169b2",
   "metadata": {},
   "outputs": [
    {
     "data": {
      "text/plain": [
       "Yes    80\n",
       "NaN     1\n",
       "Name: Hispanic, dtype: int64"
      ]
     },
     "execution_count": 51,
     "metadata": {},
     "output_type": "execute_result"
    }
   ],
   "source": [
    "df_abr[df_abr.Other_Race_Preprocessed=='latino'].Hispanic.value_counts(dropna=False)"
   ]
  },
  {
   "cell_type": "code",
   "execution_count": 52,
   "id": "73f95f37-ecb9-454a-9190-cc6aeffb03b1",
   "metadata": {},
   "outputs": [
    {
     "data": {
      "text/plain": [
       "Yes    81\n",
       "Name: Hispanic_filled, dtype: int64"
      ]
     },
     "execution_count": 52,
     "metadata": {},
     "output_type": "execute_result"
    }
   ],
   "source": [
    "df_abr['Hispanic_filled'] = np.where(df_abr.Other_Race_Preprocessed=='latino', 'Yes', df_abr.Hispanic_filled)\n",
    "\n",
    "df_abr[df_abr.Other_Race_Preprocessed=='latino'].Hispanic_filled.value_counts(dropna=False)"
   ]
  },
  {
   "cell_type": "markdown",
   "id": "8eb99c6f-bc3a-4d45-b19c-bb0d6f424edb",
   "metadata": {},
   "source": [
    "#### Remove Hispanic/Latino from `Other_Race`"
   ]
  },
  {
   "cell_type": "code",
   "execution_count": 53,
   "id": "a0e51f4e-1ca6-4240-b4b4-50158eb22a18",
   "metadata": {},
   "outputs": [
    {
     "data": {
      "text/plain": [
       "NaN              3617015\n",
       "unknown            23702\n",
       "multi racial       19468\n",
       "hisp               15582\n",
       "ns                  3514\n",
       "                  ...   \n",
       "haitian                1\n",
       "someli                 1\n",
       "r wrist                1\n",
       "nss                    1\n",
       "unknown white          1\n",
       "Name: Other_Race_hisp_removed, Length: 338, dtype: int64"
      ]
     },
     "execution_count": 53,
     "metadata": {},
     "output_type": "execute_result"
    }
   ],
   "source": [
    "df_abr['Other_Race_hisp_removed'] = df_abr['Other_Race_Preprocessed'].replace('|'.join(hisp_match), np.nan, regex=True)\n",
    "df_abr['Other_Race_hisp_removed'].value_counts(dropna=False)"
   ]
  },
  {
   "cell_type": "markdown",
   "id": "98918176-6cc1-4dc4-bb5d-78f3b501a21d",
   "metadata": {},
   "source": [
    "### Clean up other responses"
   ]
  },
  {
   "cell_type": "code",
   "execution_count": 54,
   "id": "2b5767bd-8319-408e-97ba-1be662944e2c",
   "metadata": {},
   "outputs": [
    {
     "data": {
      "text/plain": [
       "array(['multi racial', 'multiracial', 'biracial', 'multracial',\n",
       "       'mult racial', 'multi race', 'bi multiracial', 'multirace',\n",
       "       'multi racia', 'multil racial', 'multi  racial', 'multiracail',\n",
       "       'multo racial', 'multiple racial', 'two more races', 'more races',\n",
       "       'two or more rac'], dtype=object)"
      ]
     },
     "execution_count": 54,
     "metadata": {},
     "output_type": "execute_result"
    }
   ],
   "source": [
    "multiracial_match"
   ]
  },
  {
   "cell_type": "code",
   "execution_count": 55,
   "id": "5b4af77a-7a2e-46ad-89b0-f5871ce7d396",
   "metadata": {},
   "outputs": [
    {
     "data": {
      "text/plain": [
       "array(['unknown', 'unkn', 'uknown', 'unknwon', 'unkown', 'unknonw',\n",
       "       'unknokwn', 'unnown', 'ukknown', 'sunknown', 'unknonwn', 'unknowm',\n",
       "       'unwknown', 'unknow n', 'unknow', 'unknowmn', 'unknkown',\n",
       "       'unkinown', 'uniknown', 'unknnown', 'uinknown'], dtype=object)"
      ]
     },
     "execution_count": 55,
     "metadata": {},
     "output_type": "execute_result"
    }
   ],
   "source": [
    "unk_match"
   ]
  },
  {
   "cell_type": "code",
   "execution_count": 56,
   "id": "998f22ed-ca6e-4151-944e-0a1d6ede5e2f",
   "metadata": {},
   "outputs": [
    {
     "data": {
      "text/plain": [
       "array(['declined', 'decline', 'chinese', 'pt declined', 'declined to ans',\n",
       "       'declined to lis', 'refused decline', 'declines to lis',\n",
       "       'family declined'], dtype=object)"
      ]
     },
     "execution_count": 56,
     "metadata": {},
     "output_type": "execute_result"
    }
   ],
   "source": [
    "decline_match"
   ]
  },
  {
   "cell_type": "code",
   "execution_count": 70,
   "id": "64efda31-6f95-4410-97f1-118a1d451fee",
   "metadata": {},
   "outputs": [
    {
     "data": {
      "text/plain": [
       "0.05937650049236495"
      ]
     },
     "execution_count": 70,
     "metadata": {},
     "output_type": "execute_result"
    }
   ],
   "source": [
    "df[df.Age>150].shape[0]/len(df)"
   ]
  },
  {
   "cell_type": "code",
   "execution_count": null,
   "id": "2ae8766f-ef2b-4d9d-ad0a-1e9958d0fb60",
   "metadata": {},
   "outputs": [],
   "source": []
  }
 ],
 "metadata": {
  "kernelspec": {
   "display_name": "Python 3 (ipykernel)",
   "language": "python",
   "name": "python3"
  },
  "language_info": {
   "codemirror_mode": {
    "name": "ipython",
    "version": 3
   },
   "file_extension": ".py",
   "mimetype": "text/x-python",
   "name": "python",
   "nbconvert_exporter": "python",
   "pygments_lexer": "ipython3",
   "version": "3.9.6"
  }
 },
 "nbformat": 4,
 "nbformat_minor": 5
}
