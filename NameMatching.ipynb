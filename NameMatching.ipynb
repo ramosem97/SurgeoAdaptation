{
 "cells": [
  {
   "cell_type": "markdown",
   "id": "3ed19a50-d1e6-4a58-ba10-f4332ee2db05",
   "metadata": {},
   "source": [
    "# Cosine Name Matching using Bigrams\n",
    "<b> Emilio Ramos Monzalvo - 09/01/2021 </b>"
   ]
  },
  {
   "cell_type": "markdown",
   "id": "84dc1130-ff34-45e4-97d7-f2dc415577dc",
   "metadata": {},
   "source": [
    "## Config"
   ]
  },
  {
   "cell_type": "code",
   "execution_count": 1,
   "id": "d9c014ae-78f2-4b00-aae6-8d9f8cbb26f4",
   "metadata": {},
   "outputs": [
    {
     "data": {
      "text/html": [
       "<pre>✔️ 0 ns (2021-09-01T13:17:57/2021-09-01T13:17:57)</pre>"
      ],
      "text/plain": [
       "<IPython.core.display.HTML object>"
      ]
     },
     "metadata": {},
     "output_type": "display_data"
    }
   ],
   "source": [
    "%load_ext autotime"
   ]
  },
  {
   "cell_type": "code",
   "execution_count": 2,
   "id": "5add7e6e-f1d4-482c-997e-ee2fb337ad07",
   "metadata": {},
   "outputs": [
    {
     "data": {
      "text/html": [
       "<pre>✔️ 1.49 s (2021-09-01T13:17:58/2021-09-01T13:17:59)</pre>"
      ],
      "text/plain": [
       "<IPython.core.display.HTML object>"
      ]
     },
     "metadata": {},
     "output_type": "display_data"
    }
   ],
   "source": [
    "import pathlib\n",
    "import string\n",
    "import sys\n",
    "from tqdm import tqdm\n",
    "\n",
    "import numpy as np\n",
    "import pandas as pd\n",
    "import random\n",
    "\n",
    "import re\n",
    "from sklearn.feature_extraction.text import TfidfVectorizer\n",
    "\n",
    "from scipy.sparse import csr_matrix\n",
    "import sparse_dot_topn.sparse_dot_topn as ct  # cosine matching\n",
    "\n",
    "from fuzzywuzzy import fuzz\n",
    "import fuzzywuzzy.process as fuzz_process"
   ]
  },
  {
   "cell_type": "markdown",
   "id": "7e4ac9bb-d1c9-4864-a498-400999046719",
   "metadata": {},
   "source": [
    "### Global Variables"
   ]
  },
  {
   "cell_type": "code",
   "execution_count": 3,
   "id": "79684112-6245-4b95-bfa5-1f925606b943",
   "metadata": {},
   "outputs": [
    {
     "data": {
      "text/html": [
       "<pre>✔️ 16 ms (2021-09-01T13:17:59/2021-09-01T13:17:59)</pre>"
      ],
      "text/plain": [
       "<IPython.core.display.HTML object>"
      ]
     },
     "metadata": {},
     "output_type": "display_data"
    }
   ],
   "source": [
    "NGRAMS = 2"
   ]
  },
  {
   "cell_type": "markdown",
   "id": "cd72d221-de0a-4487-afd0-dcd733a2cda7",
   "metadata": {},
   "source": [
    "## Read in Data"
   ]
  },
  {
   "cell_type": "code",
   "execution_count": 4,
   "id": "ba9c5e88-ab86-4bfd-b9f4-b09217a24e67",
   "metadata": {},
   "outputs": [
    {
     "data": {
      "text/html": [
       "<pre>✔️ 156 ms (2021-09-01T13:18:00/2021-09-01T13:18:00)</pre>"
      ],
      "text/plain": [
       "<IPython.core.display.HTML object>"
      ]
     },
     "metadata": {},
     "output_type": "display_data"
    },
    {
     "name": "stdout",
     "output_type": "stream",
     "text": [
      "Number of Rows:  162254\n"
     ]
    },
    {
     "data": {
      "text/html": [
       "<div>\n",
       "<style scoped>\n",
       "    .dataframe tbody tr th:only-of-type {\n",
       "        vertical-align: middle;\n",
       "    }\n",
       "\n",
       "    .dataframe tbody tr th {\n",
       "        vertical-align: top;\n",
       "    }\n",
       "\n",
       "    .dataframe thead th {\n",
       "        text-align: right;\n",
       "    }\n",
       "</style>\n",
       "<table border=\"1\" class=\"dataframe\">\n",
       "  <thead>\n",
       "    <tr style=\"text-align: right;\">\n",
       "      <th></th>\n",
       "      <th>name</th>\n",
       "    </tr>\n",
       "  </thead>\n",
       "  <tbody>\n",
       "    <tr>\n",
       "      <th>0</th>\n",
       "      <td>AAB</td>\n",
       "    </tr>\n",
       "    <tr>\n",
       "      <th>1</th>\n",
       "      <td>AABERG</td>\n",
       "    </tr>\n",
       "    <tr>\n",
       "      <th>2</th>\n",
       "      <td>AABY</td>\n",
       "    </tr>\n",
       "    <tr>\n",
       "      <th>3</th>\n",
       "      <td>AADLAND</td>\n",
       "    </tr>\n",
       "    <tr>\n",
       "      <th>4</th>\n",
       "      <td>AAFEDT</td>\n",
       "    </tr>\n",
       "  </tbody>\n",
       "</table>\n",
       "</div>"
      ],
      "text/plain": [
       "      name\n",
       "0      AAB\n",
       "1   AABERG\n",
       "2     AABY\n",
       "3  AADLAND\n",
       "4   AAFEDT"
      ]
     },
     "execution_count": 4,
     "metadata": {},
     "output_type": "execute_result"
    }
   ],
   "source": [
    "df = pd.read_csv(\n",
    "            'Data/prob_race_given_surname_2010.csv',\n",
    "            index_col=False,\n",
    "            na_values=[''],\n",
    "            keep_default_na=False,\n",
    "        )[['name']]\n",
    "print('Number of Rows: ', len(df))\n",
    "df.head()"
   ]
  },
  {
   "cell_type": "markdown",
   "id": "52db5135-8ca7-46dd-8473-f1ceb72914f2",
   "metadata": {
    "tags": []
   },
   "source": [
    "## Pre-Process"
   ]
  },
  {
   "cell_type": "markdown",
   "id": "64b6475f-041f-42d8-88f3-f32bf55bb4f2",
   "metadata": {},
   "source": [
    "### Normalize Names"
   ]
  },
  {
   "cell_type": "code",
   "execution_count": 5,
   "id": "d790a7d3-7be2-43cd-8c93-8ac87b2349e9",
   "metadata": {},
   "outputs": [
    {
     "data": {
      "text/html": [
       "<pre>✔️ 875 ms (2021-09-01T13:18:00/2021-09-01T13:18:01)</pre>"
      ],
      "text/plain": [
       "<IPython.core.display.HTML object>"
      ]
     },
     "metadata": {},
     "output_type": "display_data"
    }
   ],
   "source": [
    "def preprocess_names(names: pd.Series) -> pd.Series:\n",
    "        \"\"\"Take names and run a normalization routine\"\"\"\n",
    "        \n",
    "        # Make a transalation table of unwanted characers\n",
    "        unwanted_characters = (\n",
    "            string.digits +\n",
    "            string.punctuation +\n",
    "            string.whitespace\n",
    "        )\n",
    "        \n",
    "        # Remove unwanted characters efficiently\n",
    "        translation_table =  str.maketrans('', '', unwanted_characters)\n",
    "        \n",
    "        # Run our string operations (remember NAN is a valid name)\n",
    "        output = (\n",
    "            names.fillna('')\n",
    "                 .astype(str)\n",
    "                 .str.translate(translation_table)\n",
    "                 .str.upper()\n",
    "                 .str.replace(r'\\s?J\\.*?R\\.*\\s*?$', '', regex=True)\n",
    "                 .str.replace(r'\\s?S\\.*?R\\.*\\s*?$', '', regex=True)\n",
    "                 .str.replace(r'\\s?III\\s*?$',      '', regex=True)\n",
    "                 .str.replace(r'\\s?IV\\s*?$',       '', regex=True)\n",
    "        )\n",
    "        output.name = 'name'\n",
    "        \n",
    "        return output\n",
    "\n",
    "df.name = preprocess_names(df.name)"
   ]
  },
  {
   "cell_type": "markdown",
   "id": "2b679176-2275-4ce6-92ae-4eed13630166",
   "metadata": {},
   "source": [
    "### Remove Duplicates"
   ]
  },
  {
   "cell_type": "code",
   "execution_count": 6,
   "id": "b5a1c6da-d105-42be-9066-9e905e1ce46a",
   "metadata": {},
   "outputs": [
    {
     "data": {
      "text/html": [
       "<pre>✔️ 47 ms (2021-09-01T13:18:01/2021-09-01T13:18:01)</pre>"
      ],
      "text/plain": [
       "<IPython.core.display.HTML object>"
      ]
     },
     "metadata": {},
     "output_type": "display_data"
    },
    {
     "name": "stdout",
     "output_type": "stream",
     "text": [
      "Unique Names:  162250\n"
     ]
    }
   ],
   "source": [
    "df = df.drop_duplicates(subset=['name']).reset_index(drop=True)\n",
    "print('Unique Names: ', len(df))"
   ]
  },
  {
   "cell_type": "markdown",
   "id": "cf050718-e300-4792-ac2b-8a5f54220f6a",
   "metadata": {},
   "source": [
    "### Transform Name to Title"
   ]
  },
  {
   "cell_type": "code",
   "execution_count": 7,
   "id": "8fc7cde5-3c4f-4542-a6ce-2dfb78ce6d40",
   "metadata": {},
   "outputs": [
    {
     "data": {
      "text/html": [
       "<pre>✔️ 62 ms (2021-09-01T13:18:01/2021-09-01T13:18:01)</pre>"
      ],
      "text/plain": [
       "<IPython.core.display.HTML object>"
      ]
     },
     "metadata": {},
     "output_type": "display_data"
    }
   ],
   "source": [
    "df['name_title'] = df.name.str.title()"
   ]
  },
  {
   "cell_type": "markdown",
   "id": "a04bd98f-ea4d-4129-84ad-cc4dc437cbe7",
   "metadata": {},
   "source": [
    "### Split into Train and Test"
   ]
  },
  {
   "cell_type": "code",
   "execution_count": 8,
   "id": "ff9fc1ef-a6da-4099-a33f-2a3a3d6f7edd",
   "metadata": {},
   "outputs": [
    {
     "data": {
      "text/html": [
       "<pre>✔️ 110 ms (2021-09-01T13:18:01/2021-09-01T13:18:01)</pre>"
      ],
      "text/plain": [
       "<IPython.core.display.HTML object>"
      ]
     },
     "metadata": {},
     "output_type": "display_data"
    },
    {
     "data": {
      "text/plain": [
       "train    0.801818\n",
       "test     0.198182\n",
       "Name: train_or_test, dtype: float64"
      ]
     },
     "execution_count": 8,
     "metadata": {},
     "output_type": "execute_result"
    }
   ],
   "source": [
    "df['train_or_test'] = np.random.choice(a=['test', 'train'], size=len(df), p=[.2, .8], replace=True)\n",
    "\n",
    "df_train = df.loc[df['train_or_test']=='train'].reset_index(drop=True)\n",
    "df_test = df.loc[df['train_or_test']=='test'].reset_index(drop=True)\n",
    "\n",
    "df['train_or_test'].value_counts(normalize=True)"
   ]
  },
  {
   "cell_type": "markdown",
   "id": "3213ce56-3c62-41aa-94e8-202561d485ac",
   "metadata": {},
   "source": [
    "### TFIDF Vectorization"
   ]
  },
  {
   "cell_type": "code",
   "execution_count": 9,
   "id": "e8325baa-dbc2-451a-a69b-3d9d497528ae",
   "metadata": {},
   "outputs": [
    {
     "data": {
      "text/html": [
       "<pre>✔️ 1.53 s (2021-09-01T13:18:01/2021-09-01T13:18:03)</pre>"
      ],
      "text/plain": [
       "<IPython.core.display.HTML object>"
      ]
     },
     "metadata": {},
     "output_type": "display_data"
    },
    {
     "data": {
      "text/plain": [
       "958"
      ]
     },
     "execution_count": 9,
     "metadata": {},
     "output_type": "execute_result"
    }
   ],
   "source": [
    "# Vectorize using TfidVectorizer and Ngrams\n",
    "vect = TfidfVectorizer(analyzer='char', max_df=0.3, min_df=3, ngram_range=(NGRAMS, NGRAMS), lowercase=False)\n",
    "tf_idf_matrix_train = vect.fit_transform(df.loc[df['train_or_test']=='train'].name_title)\n",
    "tf_idf_matrix_test = vect.transform(df.loc[df['train_or_test']=='test'].name_title)\n",
    "vocab = vect.vocabulary_\n",
    "len(vocab)"
   ]
  },
  {
   "cell_type": "markdown",
   "id": "cb3888a7-3037-463d-98df-d71cc0a89fd6",
   "metadata": {},
   "source": [
    "## Find Similarities"
   ]
  },
  {
   "cell_type": "markdown",
   "id": "cc1ee0ea-e8ac-4c4c-aab4-10eacb2b39f8",
   "metadata": {
    "tags": []
   },
   "source": [
    "### Cosine Similarity"
   ]
  },
  {
   "cell_type": "code",
   "execution_count": 10,
   "id": "5461459c-20f3-48da-9a00-a176ec3fcb7c",
   "metadata": {},
   "outputs": [
    {
     "data": {
      "text/html": [
       "<pre>✔️ 0 ns (2021-09-01T13:18:03/2021-09-01T13:18:03)</pre>"
      ],
      "text/plain": [
       "<IPython.core.display.HTML object>"
      ]
     },
     "metadata": {},
     "output_type": "display_data"
    }
   ],
   "source": [
    "def cosine_similarity_top(A: csr_matrix, B: csr_matrix, topn: int = 10, lower_bound: int=0) -> csr_matrix:\n",
    "    # force A and B as a CSR matrix.\n",
    "    # If they have already been CSR, there is no overhead\n",
    "    A = A.tocsr()\n",
    "    B = B.tocsr()\n",
    "    M, _ = A.shape\n",
    "    _, N = B.shape\n",
    " \n",
    "    idx_dtype = np.int32\n",
    " \n",
    "    nnz_max = M*topn\n",
    " \n",
    "    indptr = np.zeros(M+1, dtype=idx_dtype)\n",
    "    indices = np.zeros(nnz_max, dtype=idx_dtype)\n",
    "    data = np.zeros(nnz_max, dtype=A.dtype)\n",
    "    \n",
    "    ct.sparse_dot_topn(\n",
    "            M, N, np.asarray(A.indptr, dtype=idx_dtype),\n",
    "            np.asarray(A.indices, dtype=idx_dtype),\n",
    "            A.data,\n",
    "            np.asarray(B.indptr, dtype=idx_dtype),\n",
    "            np.asarray(B.indices, dtype=idx_dtype),\n",
    "            B.data,\n",
    "            topn,\n",
    "            lower_bound,\n",
    "            indptr, indices, data)\n",
    "    \n",
    "    return csr_matrix((data,indices,indptr),shape=(M,N))"
   ]
  },
  {
   "cell_type": "code",
   "execution_count": 44,
   "id": "8aebfc15-a172-47df-86e2-a53599b77d11",
   "metadata": {},
   "outputs": [
    {
     "data": {
      "text/html": [
       "<pre>✔️ 9.5 s (2021-09-01T13:32:26/2021-09-01T13:32:35)</pre>"
      ],
      "text/plain": [
       "<IPython.core.display.HTML object>"
      ]
     },
     "metadata": {},
     "output_type": "display_data"
    },
    {
     "data": {
      "text/plain": [
       "6502023"
      ]
     },
     "execution_count": 44,
     "metadata": {},
     "output_type": "execute_result"
    }
   ],
   "source": [
    "#  Run the optimized cosine similarity function. \n",
    "#  Only stores the top 10 most similar items with a similarity above 0.8\n",
    "matches = cosine_similarity_top(A=tf_idf_matrix_train, \n",
    "                                B=tf_idf_matrix_test.transpose(), \n",
    "                                topn=50, lower_bound=0)\n",
    "matches.size"
   ]
  },
  {
   "cell_type": "markdown",
   "id": "b887cbc5-973a-43b0-b78c-c77747ff36e5",
   "metadata": {},
   "source": [
    "### Get Best Matches"
   ]
  },
  {
   "cell_type": "code",
   "execution_count": 64,
   "id": "e140ce32-ea06-4c42-8b93-5e7d9723f60b",
   "metadata": {},
   "outputs": [
    {
     "data": {
      "text/html": [
       "<pre>✔️ 0 ns (2021-09-01T14:00:39/2021-09-01T14:00:39)</pre>"
      ],
      "text/plain": [
       "<IPython.core.display.HTML object>"
      ]
     },
     "metadata": {},
     "output_type": "display_data"
    }
   ],
   "source": [
    "def get_matches_df(sparse_matrix: csr_matrix, name_vector_a: pd.Series, name_vector_b: pd.Series , topn: int=-1) -> pd.DataFrame:\n",
    "    \"\"\"Unpack Sparse Matrix Matches into a Data Frame\"\"\"\n",
    "    \n",
    "    non_zeros = sparse_matrix.nonzero()\n",
    "    \n",
    "    sparserows = non_zeros[0]\n",
    "    sparsecols = non_zeros[1]\n",
    "    \n",
    "    if topn > 0:\n",
    "        nr_matches = topn\n",
    "    else:\n",
    "        nr_matches = sparsecols.size\n",
    "    \n",
    "    left_side = np.empty([nr_matches], dtype=object)\n",
    "    right_side = np.empty([nr_matches], dtype=object)\n",
    "    similairity = np.zeros(nr_matches)\n",
    "\n",
    "    for index in tqdm(range(0, nr_matches), desc=\"Computing Similarities...\"):\n",
    "        left_side[index] = name_vector_a[sparserows[index]]\n",
    "        right_side[index] = name_vector_b[sparsecols[index]]\n",
    "        similairity[index] = np.floor(sparse_matrix.data[index]*100)\n",
    "    \n",
    "    return pd.DataFrame({'name': right_side,\n",
    "                          'match': left_side,\n",
    "                           'match_score': similairity})"
   ]
  },
  {
   "cell_type": "code",
   "execution_count": 78,
   "id": "f3f08ef8-4306-491e-841e-6514c54504b3",
   "metadata": {},
   "outputs": [
    {
     "data": {
      "text/html": [
       "<pre>✔️ 1 min 20 s (2021-09-01T14:21:55/2021-09-01T14:23:15)</pre>"
      ],
      "text/plain": [
       "<IPython.core.display.HTML object>"
      ]
     },
     "metadata": {},
     "output_type": "display_data"
    },
    {
     "name": "stderr",
     "output_type": "stream",
     "text": [
      "Computing Similarities...: 100%|██████████████████████████████████████████| 6502023/6502023 [01:15<00:00, 85619.21it/s]\n"
     ]
    },
    {
     "data": {
      "text/html": [
       "<div>\n",
       "<style scoped>\n",
       "    .dataframe tbody tr th:only-of-type {\n",
       "        vertical-align: middle;\n",
       "    }\n",
       "\n",
       "    .dataframe tbody tr th {\n",
       "        vertical-align: top;\n",
       "    }\n",
       "\n",
       "    .dataframe thead th {\n",
       "        text-align: right;\n",
       "    }\n",
       "</style>\n",
       "<table border=\"1\" class=\"dataframe\">\n",
       "  <thead>\n",
       "    <tr style=\"text-align: right;\">\n",
       "      <th></th>\n",
       "      <th>name</th>\n",
       "      <th>match</th>\n",
       "      <th>match_score</th>\n",
       "    </tr>\n",
       "  </thead>\n",
       "  <tbody>\n",
       "    <tr>\n",
       "      <th>0</th>\n",
       "      <td>AAB</td>\n",
       "      <td>AABY</td>\n",
       "      <td>83.0</td>\n",
       "    </tr>\n",
       "    <tr>\n",
       "      <th>35</th>\n",
       "      <td>AADLAND</td>\n",
       "      <td>AALAND</td>\n",
       "      <td>77.0</td>\n",
       "    </tr>\n",
       "    <tr>\n",
       "      <th>150</th>\n",
       "      <td>AAKRE</td>\n",
       "      <td>AAKER</td>\n",
       "      <td>69.0</td>\n",
       "    </tr>\n",
       "    <tr>\n",
       "      <th>252</th>\n",
       "      <td>AALGAARD</td>\n",
       "      <td>AAGAARD</td>\n",
       "      <td>80.0</td>\n",
       "    </tr>\n",
       "    <tr>\n",
       "      <th>363</th>\n",
       "      <td>AAMIR</td>\n",
       "      <td>AAS</td>\n",
       "      <td>65.0</td>\n",
       "    </tr>\n",
       "    <tr>\n",
       "      <th>436</th>\n",
       "      <td>AAMOT</td>\n",
       "      <td>AAMOLD</td>\n",
       "      <td>78.0</td>\n",
       "    </tr>\n",
       "    <tr>\n",
       "      <th>508</th>\n",
       "      <td>AARDEMA</td>\n",
       "      <td>AAGARD</td>\n",
       "      <td>68.0</td>\n",
       "    </tr>\n",
       "    <tr>\n",
       "      <th>558</th>\n",
       "      <td>AARESTAD</td>\n",
       "      <td>AANESTAD</td>\n",
       "      <td>86.0</td>\n",
       "    </tr>\n",
       "    <tr>\n",
       "      <th>658</th>\n",
       "      <td>AARONS</td>\n",
       "      <td>AARON</td>\n",
       "      <td>92.0</td>\n",
       "    </tr>\n",
       "    <tr>\n",
       "      <th>698</th>\n",
       "      <td>AASLAND</td>\n",
       "      <td>AALAND</td>\n",
       "      <td>78.0</td>\n",
       "    </tr>\n",
       "    <tr>\n",
       "      <th>782</th>\n",
       "      <td>AB</td>\n",
       "      <td>ABE</td>\n",
       "      <td>82.0</td>\n",
       "    </tr>\n",
       "    <tr>\n",
       "      <th>1189</th>\n",
       "      <td>ABABIO</td>\n",
       "      <td>ABABA</td>\n",
       "      <td>74.0</td>\n",
       "    </tr>\n",
       "    <tr>\n",
       "      <th>1372</th>\n",
       "      <td>ABADI</td>\n",
       "      <td>ABADIE</td>\n",
       "      <td>93.0</td>\n",
       "    </tr>\n",
       "    <tr>\n",
       "      <th>1595</th>\n",
       "      <td>ABALO</td>\n",
       "      <td>ABAL</td>\n",
       "      <td>89.0</td>\n",
       "    </tr>\n",
       "    <tr>\n",
       "      <th>1832</th>\n",
       "      <td>ABALOS</td>\n",
       "      <td>ABAL</td>\n",
       "      <td>81.0</td>\n",
       "    </tr>\n",
       "    <tr>\n",
       "      <th>2002</th>\n",
       "      <td>ABANGAN</td>\n",
       "      <td>ABANG</td>\n",
       "      <td>87.0</td>\n",
       "    </tr>\n",
       "    <tr>\n",
       "      <th>2227</th>\n",
       "      <td>ABANILLA</td>\n",
       "      <td>ABADILLA</td>\n",
       "      <td>75.0</td>\n",
       "    </tr>\n",
       "    <tr>\n",
       "      <th>2410</th>\n",
       "      <td>ABARCA</td>\n",
       "      <td>ABAR</td>\n",
       "      <td>75.0</td>\n",
       "    </tr>\n",
       "    <tr>\n",
       "      <th>2603</th>\n",
       "      <td>ABARE</td>\n",
       "      <td>ABAR</td>\n",
       "      <td>91.0</td>\n",
       "    </tr>\n",
       "    <tr>\n",
       "      <th>2872</th>\n",
       "      <td>ABARNO</td>\n",
       "      <td>ABBARNO</td>\n",
       "      <td>86.0</td>\n",
       "    </tr>\n",
       "  </tbody>\n",
       "</table>\n",
       "</div>"
      ],
      "text/plain": [
       "          name     match  match_score\n",
       "0          AAB      AABY         83.0\n",
       "35     AADLAND    AALAND         77.0\n",
       "150      AAKRE     AAKER         69.0\n",
       "252   AALGAARD   AAGAARD         80.0\n",
       "363      AAMIR       AAS         65.0\n",
       "436      AAMOT    AAMOLD         78.0\n",
       "508    AARDEMA    AAGARD         68.0\n",
       "558   AARESTAD  AANESTAD         86.0\n",
       "658     AARONS     AARON         92.0\n",
       "698    AASLAND    AALAND         78.0\n",
       "782         AB       ABE         82.0\n",
       "1189    ABABIO     ABABA         74.0\n",
       "1372     ABADI    ABADIE         93.0\n",
       "1595     ABALO      ABAL         89.0\n",
       "1832    ABALOS      ABAL         81.0\n",
       "2002   ABANGAN     ABANG         87.0\n",
       "2227  ABANILLA  ABADILLA         75.0\n",
       "2410    ABARCA      ABAR         75.0\n",
       "2603     ABARE      ABAR         91.0\n",
       "2872    ABARNO   ABBARNO         86.0"
      ]
     },
     "execution_count": 78,
     "metadata": {},
     "output_type": "execute_result"
    }
   ],
   "source": [
    "# store the  matches into new dataframe called matched_df and printing 10 samples\n",
    "cosine_match = get_matches_df(sparse_matrix=matches,\n",
    "                            name_vector_a=df_train.name, \n",
    "                            name_vector_b=df_test.name,\n",
    "                            topn=-1)\n",
    "\n",
    "cosine_match = cosine_match.loc[((cosine_match['match_score'] < 99) & \n",
    "                                 (cosine_match['name'].isin(df_test.name)))]\\\n",
    "                            .sort_values(['name', 'match_score'], ascending=[True, False])\\\n",
    "                            .reset_index(drop=True) # For removing all exact matches\n",
    "\n",
    "cosine_match.groupby(['name']).head(1).head(20)"
   ]
  },
  {
   "cell_type": "markdown",
   "id": "83237d07-a53b-415d-8837-d9934befee29",
   "metadata": {},
   "source": [
    "## Fuzzy Distance"
   ]
  },
  {
   "cell_type": "code",
   "execution_count": 79,
   "id": "20eabe99-4126-4f78-a606-3b9178ba01be",
   "metadata": {},
   "outputs": [
    {
     "data": {
      "text/html": [
       "<pre>✔️ 0 ns (2021-09-01T14:23:15/2021-09-01T14:23:15)</pre>"
      ],
      "text/plain": [
       "<IPython.core.display.HTML object>"
      ]
     },
     "metadata": {},
     "output_type": "display_data"
    }
   ],
   "source": [
    "def get_fuzzy_matches(old_names: pd.Series, new_names: pd.Series, cosine_match: pd.DataFrame, topn: int = 1, min_score:int = 0) -> pd.DataFrame:\n",
    "    \"\"\"Returns the topn best matches for each of the names in vector b\n",
    "        \n",
    "        old_names: Existing Names\n",
    "        new_names: New Names that need Matching\n",
    "        topn: number of results for each new name\n",
    "    \n",
    "    \"\"\"\n",
    "    \n",
    "    fuzzy_matches = pd.DataFrame(columns=['name', 'match', 'match_score'])\n",
    "    \n",
    "    res_idx = 0\n",
    "    for new_name in tqdm(new_names.values, desc=\"Computing Similarities...\"):\n",
    "        \n",
    "        # Use subset of cosine names\n",
    "        most_like_names = cosine_match.loc[cosine_match['name'] == new_name].match.values\n",
    "        \n",
    "        # Check if a there is a subset of best names; otherwise, compare against all old names.\n",
    "        if len(most_like_names) == 0:\n",
    "            fuzz_matches = fuzz_process.extract(new_name, old_names.values, scorer=fuzz.token_sort_ratio)\n",
    "        else:\n",
    "            fuzz_matches = fuzz_process.extract(new_name, most_like_names, scorer=fuzz.token_sort_ratio)\n",
    "            \n",
    "        if len(fuzz_matches) > 0:\n",
    "            for match in fuzz_matches:\n",
    "                fuzzy_matches.loc[res_idx] = {'name':new_name, 'match':match[0], 'match_score':match[1]}\n",
    "                res_idx += 1\n",
    "        else:\n",
    "            fuzzy_matches.loc[res_idx] = {'name':new_name, 'match':'', 'match_score':0}\n",
    "            \n",
    "    return fuzzy_matches.loc[fuzzy_matches['match_score'] > min_score].sort_values(['name', 'match_score'], ascending=[True, False]).groupby(['name']).head(topn)"
   ]
  },
  {
   "cell_type": "code",
   "execution_count": 80,
   "id": "bac43a7c-106d-4d64-95bf-337dc25739e0",
   "metadata": {},
   "outputs": [
    {
     "data": {
      "text/html": [
       "<pre>✔️ 13 min 35 s (2021-09-01T14:23:15/2021-09-01T14:36:50)</pre>"
      ],
      "text/plain": [
       "<IPython.core.display.HTML object>"
      ]
     },
     "metadata": {},
     "output_type": "display_data"
    },
    {
     "name": "stderr",
     "output_type": "stream",
     "text": [
      "Computing Similarities...: 100%|███████████████████████████████████████████████████| 2000/2000 [13:35<00:00,  2.45it/s]\n"
     ]
    },
    {
     "data": {
      "text/html": [
       "<div>\n",
       "<style scoped>\n",
       "    .dataframe tbody tr th:only-of-type {\n",
       "        vertical-align: middle;\n",
       "    }\n",
       "\n",
       "    .dataframe tbody tr th {\n",
       "        vertical-align: top;\n",
       "    }\n",
       "\n",
       "    .dataframe thead th {\n",
       "        text-align: right;\n",
       "    }\n",
       "</style>\n",
       "<table border=\"1\" class=\"dataframe\">\n",
       "  <thead>\n",
       "    <tr style=\"text-align: right;\">\n",
       "      <th></th>\n",
       "      <th>name</th>\n",
       "      <th>match</th>\n",
       "      <th>match_score</th>\n",
       "    </tr>\n",
       "  </thead>\n",
       "  <tbody>\n",
       "    <tr>\n",
       "      <th>0</th>\n",
       "      <td>AAB</td>\n",
       "      <td>AABY</td>\n",
       "      <td>86</td>\n",
       "    </tr>\n",
       "    <tr>\n",
       "      <th>5</th>\n",
       "      <td>AADLAND</td>\n",
       "      <td>AALAND</td>\n",
       "      <td>92</td>\n",
       "    </tr>\n",
       "    <tr>\n",
       "      <th>10</th>\n",
       "      <td>AAKRE</td>\n",
       "      <td>AKRE</td>\n",
       "      <td>89</td>\n",
       "    </tr>\n",
       "    <tr>\n",
       "      <th>15</th>\n",
       "      <td>AALGAARD</td>\n",
       "      <td>AAGAARD</td>\n",
       "      <td>93</td>\n",
       "    </tr>\n",
       "    <tr>\n",
       "      <th>20</th>\n",
       "      <td>AAMIR</td>\n",
       "      <td>ALAMIRI</td>\n",
       "      <td>83</td>\n",
       "    </tr>\n",
       "    <tr>\n",
       "      <th>25</th>\n",
       "      <td>AAMOT</td>\n",
       "      <td>AAMODT</td>\n",
       "      <td>91</td>\n",
       "    </tr>\n",
       "    <tr>\n",
       "      <th>30</th>\n",
       "      <td>AARDEMA</td>\n",
       "      <td>AARDSMA</td>\n",
       "      <td>86</td>\n",
       "    </tr>\n",
       "    <tr>\n",
       "      <th>35</th>\n",
       "      <td>AARESTAD</td>\n",
       "      <td>AARSTAD</td>\n",
       "      <td>93</td>\n",
       "    </tr>\n",
       "    <tr>\n",
       "      <th>40</th>\n",
       "      <td>AARONS</td>\n",
       "      <td>AARON</td>\n",
       "      <td>91</td>\n",
       "    </tr>\n",
       "    <tr>\n",
       "      <th>45</th>\n",
       "      <td>AASLAND</td>\n",
       "      <td>AALAND</td>\n",
       "      <td>92</td>\n",
       "    </tr>\n",
       "    <tr>\n",
       "      <th>50</th>\n",
       "      <td>AB</td>\n",
       "      <td>ABE</td>\n",
       "      <td>80</td>\n",
       "    </tr>\n",
       "    <tr>\n",
       "      <th>55</th>\n",
       "      <td>ABABIO</td>\n",
       "      <td>ABAI</td>\n",
       "      <td>80</td>\n",
       "    </tr>\n",
       "    <tr>\n",
       "      <th>60</th>\n",
       "      <td>ABADI</td>\n",
       "      <td>ABADIE</td>\n",
       "      <td>91</td>\n",
       "    </tr>\n",
       "    <tr>\n",
       "      <th>65</th>\n",
       "      <td>ABALO</td>\n",
       "      <td>CABALO</td>\n",
       "      <td>91</td>\n",
       "    </tr>\n",
       "    <tr>\n",
       "      <th>70</th>\n",
       "      <td>ABALOS</td>\n",
       "      <td>AREBALOS</td>\n",
       "      <td>86</td>\n",
       "    </tr>\n",
       "    <tr>\n",
       "      <th>75</th>\n",
       "      <td>ABANGAN</td>\n",
       "      <td>SABANGAN</td>\n",
       "      <td>93</td>\n",
       "    </tr>\n",
       "    <tr>\n",
       "      <th>80</th>\n",
       "      <td>ABANILLA</td>\n",
       "      <td>CABANILLA</td>\n",
       "      <td>94</td>\n",
       "    </tr>\n",
       "    <tr>\n",
       "      <th>85</th>\n",
       "      <td>ABARCA</td>\n",
       "      <td>LABARCA</td>\n",
       "      <td>92</td>\n",
       "    </tr>\n",
       "    <tr>\n",
       "      <th>90</th>\n",
       "      <td>ABARE</td>\n",
       "      <td>LABARE</td>\n",
       "      <td>91</td>\n",
       "    </tr>\n",
       "    <tr>\n",
       "      <th>95</th>\n",
       "      <td>ABARNO</td>\n",
       "      <td>ABBARNO</td>\n",
       "      <td>92</td>\n",
       "    </tr>\n",
       "  </tbody>\n",
       "</table>\n",
       "</div>"
      ],
      "text/plain": [
       "        name      match match_score\n",
       "0        AAB       AABY          86\n",
       "5    AADLAND     AALAND          92\n",
       "10     AAKRE       AKRE          89\n",
       "15  AALGAARD    AAGAARD          93\n",
       "20     AAMIR    ALAMIRI          83\n",
       "25     AAMOT     AAMODT          91\n",
       "30   AARDEMA    AARDSMA          86\n",
       "35  AARESTAD    AARSTAD          93\n",
       "40    AARONS      AARON          91\n",
       "45   AASLAND     AALAND          92\n",
       "50        AB        ABE          80\n",
       "55    ABABIO       ABAI          80\n",
       "60     ABADI     ABADIE          91\n",
       "65     ABALO     CABALO          91\n",
       "70    ABALOS   AREBALOS          86\n",
       "75   ABANGAN   SABANGAN          93\n",
       "80  ABANILLA  CABANILLA          94\n",
       "85    ABARCA    LABARCA          92\n",
       "90     ABARE     LABARE          91\n",
       "95    ABARNO    ABBARNO          92"
      ]
     },
     "execution_count": 80,
     "metadata": {},
     "output_type": "execute_result"
    }
   ],
   "source": [
    "fuzzy_match = get_fuzzy_matches(old_names=df_train.name, new_names=df_test.head(2000).name, cosine_match=cosine_match, topn=1, min_score=0)\n",
    "fuzzy_match.head(20)"
   ]
  },
  {
   "cell_type": "markdown",
   "id": "a97f978e-dfc8-4900-b760-3048bc794ac7",
   "metadata": {},
   "source": [
    "## Compare Best Matches"
   ]
  },
  {
   "cell_type": "code",
   "execution_count": 81,
   "id": "62b9fa38-30e1-49b3-a46f-b09884fcd3c0",
   "metadata": {},
   "outputs": [
    {
     "data": {
      "text/html": [
       "<pre>✔️ 610 ms (2021-09-01T14:36:51/2021-09-01T14:36:51)</pre>"
      ],
      "text/plain": [
       "<IPython.core.display.HTML object>"
      ]
     },
     "metadata": {},
     "output_type": "display_data"
    }
   ],
   "source": [
    "matches_df = cosine_match.groupby(['name']).head(1).merge(fuzzy_match.groupby(['name']).head(1), on=['name'], suffixes=('_cosine', '_fuzzy'), how='inner')"
   ]
  },
  {
   "cell_type": "code",
   "execution_count": 82,
   "id": "f442d6c1-8061-45cc-91af-0c2ab29f5380",
   "metadata": {},
   "outputs": [
    {
     "data": {
      "text/html": [
       "<pre>✔️ 16 ms (2021-09-01T14:36:51/2021-09-01T14:36:51)</pre>"
      ],
      "text/plain": [
       "<IPython.core.display.HTML object>"
      ]
     },
     "metadata": {},
     "output_type": "display_data"
    },
    {
     "data": {
      "text/html": [
       "<div>\n",
       "<style scoped>\n",
       "    .dataframe tbody tr th:only-of-type {\n",
       "        vertical-align: middle;\n",
       "    }\n",
       "\n",
       "    .dataframe tbody tr th {\n",
       "        vertical-align: top;\n",
       "    }\n",
       "\n",
       "    .dataframe thead th {\n",
       "        text-align: right;\n",
       "    }\n",
       "</style>\n",
       "<table border=\"1\" class=\"dataframe\">\n",
       "  <thead>\n",
       "    <tr style=\"text-align: right;\">\n",
       "      <th></th>\n",
       "      <th>name</th>\n",
       "      <th>match_cosine</th>\n",
       "      <th>match_score_cosine</th>\n",
       "      <th>match_fuzzy</th>\n",
       "      <th>match_score_fuzzy</th>\n",
       "    </tr>\n",
       "  </thead>\n",
       "  <tbody>\n",
       "    <tr>\n",
       "      <th>2</th>\n",
       "      <td>AAKRE</td>\n",
       "      <td>AAKER</td>\n",
       "      <td>69.0</td>\n",
       "      <td>AKRE</td>\n",
       "      <td>89</td>\n",
       "    </tr>\n",
       "    <tr>\n",
       "      <th>4</th>\n",
       "      <td>AAMIR</td>\n",
       "      <td>AAS</td>\n",
       "      <td>65.0</td>\n",
       "      <td>ALAMIRI</td>\n",
       "      <td>83</td>\n",
       "    </tr>\n",
       "    <tr>\n",
       "      <th>5</th>\n",
       "      <td>AAMOT</td>\n",
       "      <td>AAMOLD</td>\n",
       "      <td>78.0</td>\n",
       "      <td>AAMODT</td>\n",
       "      <td>91</td>\n",
       "    </tr>\n",
       "    <tr>\n",
       "      <th>6</th>\n",
       "      <td>AARDEMA</td>\n",
       "      <td>AAGARD</td>\n",
       "      <td>68.0</td>\n",
       "      <td>AARDSMA</td>\n",
       "      <td>86</td>\n",
       "    </tr>\n",
       "    <tr>\n",
       "      <th>7</th>\n",
       "      <td>AARESTAD</td>\n",
       "      <td>AANESTAD</td>\n",
       "      <td>86.0</td>\n",
       "      <td>AARSTAD</td>\n",
       "      <td>93</td>\n",
       "    </tr>\n",
       "    <tr>\n",
       "      <th>...</th>\n",
       "      <td>...</td>\n",
       "      <td>...</td>\n",
       "      <td>...</td>\n",
       "      <td>...</td>\n",
       "      <td>...</td>\n",
       "    </tr>\n",
       "    <tr>\n",
       "      <th>1992</th>\n",
       "      <td>BAYLY</td>\n",
       "      <td>BAYLE</td>\n",
       "      <td>80.0</td>\n",
       "      <td>BALY</td>\n",
       "      <td>89</td>\n",
       "    </tr>\n",
       "    <tr>\n",
       "      <th>1993</th>\n",
       "      <td>BAYNARD</td>\n",
       "      <td>MAYNARD</td>\n",
       "      <td>85.0</td>\n",
       "      <td>BAYARD</td>\n",
       "      <td>92</td>\n",
       "    </tr>\n",
       "    <tr>\n",
       "      <th>1994</th>\n",
       "      <td>BAYNHAM</td>\n",
       "      <td>BAYNE</td>\n",
       "      <td>68.0</td>\n",
       "      <td>BAYHAM</td>\n",
       "      <td>92</td>\n",
       "    </tr>\n",
       "    <tr>\n",
       "      <th>1996</th>\n",
       "      <td>BAYOH</td>\n",
       "      <td>BAYOT</td>\n",
       "      <td>77.0</td>\n",
       "      <td>BAYOUTH</td>\n",
       "      <td>83</td>\n",
       "    </tr>\n",
       "    <tr>\n",
       "      <th>1999</th>\n",
       "      <td>BAYRAKTAR</td>\n",
       "      <td>BAYRAM</td>\n",
       "      <td>63.0</td>\n",
       "      <td>BAJRAKTARI</td>\n",
       "      <td>84</td>\n",
       "    </tr>\n",
       "  </tbody>\n",
       "</table>\n",
       "<p>1178 rows × 5 columns</p>\n",
       "</div>"
      ],
      "text/plain": [
       "           name match_cosine  match_score_cosine match_fuzzy match_score_fuzzy\n",
       "2         AAKRE        AAKER                69.0        AKRE                89\n",
       "4         AAMIR          AAS                65.0     ALAMIRI                83\n",
       "5         AAMOT       AAMOLD                78.0      AAMODT                91\n",
       "6       AARDEMA       AAGARD                68.0     AARDSMA                86\n",
       "7      AARESTAD     AANESTAD                86.0     AARSTAD                93\n",
       "...         ...          ...                 ...         ...               ...\n",
       "1992      BAYLY        BAYLE                80.0        BALY                89\n",
       "1993    BAYNARD      MAYNARD                85.0      BAYARD                92\n",
       "1994    BAYNHAM        BAYNE                68.0      BAYHAM                92\n",
       "1996      BAYOH        BAYOT                77.0     BAYOUTH                83\n",
       "1999  BAYRAKTAR       BAYRAM                63.0  BAJRAKTARI                84\n",
       "\n",
       "[1178 rows x 5 columns]"
      ]
     },
     "execution_count": 82,
     "metadata": {},
     "output_type": "execute_result"
    }
   ],
   "source": [
    "matches_df.loc[matches_df['match_cosine'] != matches_df['match_fuzzy']]"
   ]
  },
  {
   "cell_type": "code",
   "execution_count": null,
   "id": "f0ff2409-cb81-483c-9bc0-e9205760ded8",
   "metadata": {},
   "outputs": [],
   "source": []
  },
  {
   "cell_type": "code",
   "execution_count": null,
   "id": "43623606-a1d3-4a66-94c7-1c88ba79f113",
   "metadata": {},
   "outputs": [],
   "source": []
  },
  {
   "cell_type": "code",
   "execution_count": null,
   "id": "ab2081a8-021a-47c9-b680-e6e31abf507b",
   "metadata": {},
   "outputs": [],
   "source": []
  },
  {
   "cell_type": "code",
   "execution_count": null,
   "id": "251b4f87-1bf3-4f70-b0b9-8f6d7bcce311",
   "metadata": {},
   "outputs": [],
   "source": []
  },
  {
   "cell_type": "markdown",
   "id": "cf0affe1-dd88-43ac-ae43-d96555a62ce7",
   "metadata": {},
   "source": [
    "## Backup"
   ]
  },
  {
   "cell_type": "markdown",
   "id": "b01ce92b-7448-4054-8b74-9b67cbdcda03",
   "metadata": {},
   "source": [
    "### Get Word List and Frequency"
   ]
  },
  {
   "cell_type": "code",
   "execution_count": 17,
   "id": "935baed6-71cc-4535-86be-5369001acce3",
   "metadata": {},
   "outputs": [
    {
     "data": {
      "text/html": [
       "<pre>✔️ 0 ns (2021-09-01T13:18:39/2021-09-01T13:18:39)</pre>"
      ],
      "text/plain": [
       "<IPython.core.display.HTML object>"
      ]
     },
     "metadata": {},
     "output_type": "display_data"
    }
   ],
   "source": [
    "# # sort n-gram by freq (highest -> lowest)\n",
    "# words = []\n",
    "# for b in vocab:\n",
    "#     c = vocab[b]\n",
    "#     words.append((tf_idf_matrix[:, c].sum(), b))\n",
    "# words = sorted(words, reverse=True)\n",
    "# words_list = [w[1] for w in words]\n",
    "# num_words = len(words_list)\n",
    "# print(\"num_words = %d\" % num_words)"
   ]
  },
  {
   "cell_type": "markdown",
   "id": "e7bd1372-470e-4cd8-9d85-a8dcbc7a096f",
   "metadata": {},
   "source": [
    "### Convert Data to Ngrams for Modeling"
   ]
  },
  {
   "cell_type": "code",
   "execution_count": 18,
   "id": "b12b03e4-5524-4b84-bd77-0d493741dd07",
   "metadata": {},
   "outputs": [
    {
     "data": {
      "text/html": [
       "<pre>✔️ 0 ns (2021-09-01T13:18:40/2021-09-01T13:18:40)</pre>"
      ],
      "text/plain": [
       "<IPython.core.display.HTML object>"
      ]
     },
     "metadata": {},
     "output_type": "display_data"
    }
   ],
   "source": [
    "# from tensorflow.keras.preprocessing.sequence import pad_sequences"
   ]
  },
  {
   "cell_type": "code",
   "execution_count": 19,
   "id": "7c3fbf06-e0e8-4d18-8e26-81122f7f2a87",
   "metadata": {},
   "outputs": [
    {
     "data": {
      "text/html": [
       "<pre>✔️ 0 ns (2021-09-01T13:18:40/2021-09-01T13:18:40)</pre>"
      ],
      "text/plain": [
       "<IPython.core.display.HTML object>"
      ]
     },
     "metadata": {},
     "output_type": "display_data"
    }
   ],
   "source": [
    "# def find_ngrams(text, n):\n",
    "#     a = zip(*[text[i:] for i in range(n)])\n",
    "#     wi = []\n",
    "#     for i in a:\n",
    "#         w = ''.join(i)\n",
    "#         try:\n",
    "#             idx = words_list.index(w)\n",
    "#         except:\n",
    "#             idx = 0\n",
    "#         wi.append(idx)\n",
    "#     return wi"
   ]
  },
  {
   "cell_type": "code",
   "execution_count": 20,
   "id": "83ddbef3-2bca-457b-b50a-6209d6f4d928",
   "metadata": {},
   "outputs": [
    {
     "data": {
      "text/html": [
       "<pre>✔️ 0 ns (2021-09-01T13:18:40/2021-09-01T13:18:40)</pre>"
      ],
      "text/plain": [
       "<IPython.core.display.HTML object>"
      ]
     },
     "metadata": {},
     "output_type": "display_data"
    }
   ],
   "source": [
    "# # build X from index of n-gram sequence\n",
    "# X = np.array(df.name_title.apply(lambda c: find_ngrams(c, NGRAMS)))\n",
    "\n",
    "# # check max/avg feature\n",
    "# X_len = []\n",
    "# for x in X:\n",
    "#     X_len.append(len(x))\n",
    "\n",
    "# max_feature_len = max(X_len)\n",
    "# avg_feature_len = int(np.mean(X_len))\n",
    "# del(X_len)\n",
    "\n",
    "# print(\"Max feature len = %d, Avg. feature len = %d\" % (max_feature_len, avg_feature_len))"
   ]
  },
  {
   "cell_type": "markdown",
   "id": "74c8c41a-9e8e-41ee-85f3-8df4cca4fa7d",
   "metadata": {},
   "source": [
    "### Add Padding"
   ]
  },
  {
   "cell_type": "code",
   "execution_count": 21,
   "id": "9cf74b02-6efa-4e8d-b6a9-5b5c585b1d1d",
   "metadata": {},
   "outputs": [
    {
     "data": {
      "text/html": [
       "<pre>✔️ 0 ns (2021-09-01T13:18:41/2021-09-01T13:18:41)</pre>"
      ],
      "text/plain": [
       "<IPython.core.display.HTML object>"
      ]
     },
     "metadata": {},
     "output_type": "display_data"
    }
   ],
   "source": [
    "# max_features = num_words # 20000\n",
    "# if max_feature_len < 20:\n",
    "#     feature_len = 20 # avg_feature_len # cut texts after this number of words (among top max_features most common words)\n",
    "# else:\n",
    "#     feature_len = max_feature_len + 5\n",
    "\n",
    "# print(len(X), 'name sequences')\n",
    "\n",
    "# print('Pad sequences (samples x time)')\n",
    "# X_pad = pad_sequences(X, maxlen=feature_len)\n",
    "# print('X shape:', X_pad.shape)"
   ]
  },
  {
   "cell_type": "code",
   "execution_count": null,
   "id": "1b109f54-e760-49b3-8725-9b28fe2bd146",
   "metadata": {},
   "outputs": [],
   "source": []
  }
 ],
 "metadata": {
  "kernelspec": {
   "display_name": "Python 3 (ipykernel)",
   "language": "python",
   "name": "python3"
  },
  "language_info": {
   "codemirror_mode": {
    "name": "ipython",
    "version": 3
   },
   "file_extension": ".py",
   "mimetype": "text/x-python",
   "name": "python",
   "nbconvert_exporter": "python",
   "pygments_lexer": "ipython3",
   "version": "3.9.7"
  }
 },
 "nbformat": 4,
 "nbformat_minor": 5
}
